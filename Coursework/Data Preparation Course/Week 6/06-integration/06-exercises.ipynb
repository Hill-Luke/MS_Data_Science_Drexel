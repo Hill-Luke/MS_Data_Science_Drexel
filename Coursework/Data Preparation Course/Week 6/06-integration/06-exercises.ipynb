{
 "cells": [
  {
   "cell_type": "code",
   "execution_count": null,
   "metadata": {
    "colab": {
     "base_uri": "https://localhost:8080/",
     "height": 35
    },
    "executionInfo": {
     "elapsed": 26350,
     "status": "ok",
     "timestamp": 1603742924408,
     "user": {
      "displayName": "Dr. Jake",
      "photoUrl": "",
      "userId": "10996578946780976051"
     },
     "user_tz": 240
    },
    "id": "Tf8HQuYLVeud",
    "outputId": "60ed3f22-809b-4ffc-bbf0-65a7498f96bd"
   },
   "outputs": [
    {
     "name": "stdout",
     "output_type": "stream",
     "text": [
      "Mounted at /content/gdrive\n"
     ]
    }
   ],
   "source": [
    "from google.colab import drive\n",
    "drive.mount('/content/gdrive')\n",
    "nbdir = \"/content/gdrive/My Drive/DSCI511/Colab/integration/\""
   ]
  },
  {
   "cell_type": "code",
   "execution_count": null,
   "metadata": {
    "colab": {
     "base_uri": "https://localhost:8080/",
     "height": 35
    },
    "executionInfo": {
     "elapsed": 1066,
     "status": "ok",
     "timestamp": 1603742934386,
     "user": {
      "displayName": "Dr. Jake",
      "photoUrl": "",
      "userId": "10996578946780976051"
     },
     "user_tz": 240
    },
    "id": "aMhuZOSvVgWe",
    "outputId": "dfa45313-9603-49cd-93b2-83393f184ab6"
   },
   "outputs": [
    {
     "name": "stdout",
     "output_type": "stream",
     "text": [
      "/content/gdrive/My Drive/DSCI511/Colab/integration\n"
     ]
    }
   ],
   "source": [
    "%cd /content/gdrive/My\\ Drive/DSCI511/Colab/integration/"
   ]
  },
  {
   "cell_type": "markdown",
   "metadata": {
    "id": "MbpAnsB1W0VT"
   },
   "source": [
    "# DSCI 511: Data acquisition and pre-processing<br>Chapter 6: Data Integration and Enrichment\n",
    "\n",
    "In this notebook, we'll primarily discuss interacting with tabular or spreadsheet-like data with the `pandas` module (`pip3 install pandas`). `pandas` is a high-level library designed to simplify complex operations, as such, it is a very powerful tool well worth learning.\n",
    "\n",
    "## Exercises\n",
    "Note: numberings refer to the main notes."
   ]
  },
  {
   "cell_type": "markdown",
   "metadata": {
    "id": "fuaeUarIW0VU"
   },
   "source": [
    "#### 6.1.1.4 Exercise: Boolean masks\n",
    "Create a Boolean mask for the rows that correspond only to the month of August and print these rows below."
   ]
  },
  {
   "cell_type": "code",
   "execution_count": null,
   "metadata": {
    "id": "vZvTVmp0jB4c"
   },
   "outputs": [],
   "source": [
    "## code here"
   ]
  },
  {
   "cell_type": "markdown",
   "metadata": {
    "id": "tLNA6DeqW0VY"
   },
   "source": [
    "#### 6.1.2.1 Exercise:\n",
    "Download stock history for Tesla Inc. (TSLA) from Yahoo! Finance, read it into a dataframe, and save the \"Date\" and \"Close\" columns to a CSV file."
   ]
  },
  {
   "cell_type": "code",
   "execution_count": null,
   "metadata": {
    "id": "6UQICNR3W0VZ"
   },
   "outputs": [],
   "source": [
    "# code goes here"
   ]
  },
  {
   "cell_type": "markdown",
   "metadata": {
    "id": "FpJIWopwW0Vb"
   },
   "source": [
    "#### 6.1.3.4 Exercise: Dropping missing values\n",
    "\n",
    "Load `patient-stats.csv` into a `pandas` dataframe. Some patient records are missing values for weight. Drop these records and display the final dataframe."
   ]
  },
  {
   "cell_type": "code",
   "execution_count": null,
   "metadata": {
    "id": "6_jOPgjvW0Vb"
   },
   "outputs": [],
   "source": [
    "# code goes here"
   ]
  },
  {
   "cell_type": "markdown",
   "metadata": {
    "id": "hpXFUZ5GW0Ve"
   },
   "source": [
    "#### 6.2.1.1 Exercise: More Boolean masks\n",
    "Create a mask for filtering data for the players whose height is exactly 72 inches. Use this filter to put this data into a new dataframe."
   ]
  },
  {
   "cell_type": "code",
   "execution_count": null,
   "metadata": {
    "id": "oOGewUcUagHy"
   },
   "outputs": [],
   "source": [
    "## code goes here"
   ]
  },
  {
   "cell_type": "markdown",
   "metadata": {
    "id": "j87FR35KW0Vh"
   },
   "source": [
    "#### 6.2.3.4 Exercise: Joins\n",
    "Use a boolean mask to put only the data for the under-18 population into a new dataframe from the `state-population.csv` file. Load the data from `state-abbrevs.csv` and perform the appropriate join operation to create a dataframe that has both the under-18 population data and the state names."
   ]
  },
  {
   "cell_type": "code",
   "execution_count": null,
   "metadata": {
    "id": "H51XhZCJW0Vh"
   },
   "outputs": [],
   "source": [
    "# code goes here"
   ]
  },
  {
   "cell_type": "markdown",
   "metadata": {
    "id": "iCJnF94qW0Vj"
   },
   "source": [
    "#### 6.2.2.5 Challenge Exercise: Joins\n",
    "Use boolean masks, again, but this time to enrich the population data. Calculate values for over 18 year old populations, and insert them as additional rows tagged with `'over18'` in the `'ages'` column. Be sure that your calculations correctly align the right years and states!"
   ]
  },
  {
   "cell_type": "code",
   "execution_count": null,
   "metadata": {
    "id": "V2Rnh084W0Vk"
   },
   "outputs": [],
   "source": [
    "# code goes here"
   ]
  },
  {
   "cell_type": "markdown",
   "metadata": {
    "id": "9d0TDtxia68b"
   },
   "source": [
    "## Additional In-depth Exercises\n",
    "### A. De-aggregating actors lists from movies\n",
    "Here, our __overall goal__ will be to do some (dis)-integration work on the Excel file\n",
    "\n",
    "- `'./data/movies.xls'`\n",
    "\n",
    "It has multiple sheets of data, named like `\"1900s\"`, `\"2000s\"`, or `\"2010s\"` representing information about major motion pictures and actors, etc., in them. The data have rows organized by by movie, and the spreadsheet we want to make is based on people and time. In particular, what we want by the end of this effort is a validated spreadsheet, for which each 'cell' represents the number of movie events a given person participated in at a given time (however the source data represent these variables)."
   ]
  },
  {
   "cell_type": "code",
   "execution_count": null,
   "metadata": {
    "id": "v40L3I732uKX"
   },
   "outputs": [],
   "source": [
    "twentieth_century_movies = pd.read_excel(\"./data/movies.xls\", sheet_name = \"1900s\")\n",
    "noughties_movies = pd.read_excel(\"./data/movies.xls\", sheet_name = \"2000s\")\n",
    "twentytens_movies = pd.read_excel(\"./data/movies.xls\", sheet_name = \"2010s\")"
   ]
  },
  {
   "cell_type": "markdown",
   "metadata": {
    "id": "h5i3rP2-cIdt"
   },
   "source": [
    "#### A.1 Getting to know the data\n",
    "To start, review the spreadsheets, discuss how they're organized, and comment on the structure and information present as relates to time (are there timestamps?) and participation, e.g., acting, directing, etc."
   ]
  },
  {
   "cell_type": "code",
   "execution_count": null,
   "metadata": {
    "id": "-OmH5D42jI7a"
   },
   "outputs": [],
   "source": [
    "## code here"
   ]
  },
  {
   "cell_type": "markdown",
   "metadata": {
    "id": "WHu-jYCkcjx2"
   },
   "source": [
    "#### A.2 Collecting the data for our spreadsheet\n",
    "Having reviewed what these data are, we should now be able to build objects that will allow us to determine the dimension of our speadsheet. If we're smart about this we should be able to record the information that we'll be filling into the spreadsheet while we determine who the `people` and `times` are. "
   ]
  },
  {
   "cell_type": "code",
   "execution_count": null,
   "metadata": {
    "id": "CURmUPeOjVYA"
   },
   "outputs": [],
   "source": [
    "## code here"
   ]
  },
  {
   "cell_type": "markdown",
   "metadata": {
    "id": "qOp1ui0mdSAi"
   },
   "source": [
    "#### A.3 Filling in the dataframe\n",
    "Now, construct a dataframe with our target, re-processing the original dataframe as necessary. Again, each 'cell' in our dataframe should represent the number of movie events a given person participated in at a given time."
   ]
  },
  {
   "cell_type": "code",
   "execution_count": null,
   "metadata": {
    "id": "0BlZSdCcjYHS"
   },
   "outputs": [],
   "source": [
    "## code here"
   ]
  },
  {
   "cell_type": "markdown",
   "metadata": {
    "id": "x6j43wOHdmO8"
   },
   "source": [
    "#### A.4 Validate with a visualization\n",
    "Now that we have a _timeseries_ of values for the individual actors in the dataset, we can visualize boolean masks to see when specific people were active. We can use some pandas plotting utilities to show a timeseries quite easily. The main utility we'll use is the `df.plot()` method. Here's an example from the Apple Stock data:"
   ]
  },
  {
   "cell_type": "code",
   "execution_count": null,
   "metadata": {
    "colab": {
     "base_uri": "https://localhost:8080/",
     "height": 306
    },
    "executionInfo": {
     "elapsed": 2023,
     "status": "ok",
     "timestamp": 1603742956969,
     "user": {
      "displayName": "Dr. Jake",
      "photoUrl": "",
      "userId": "10996578946780976051"
     },
     "user_tz": 240
    },
    "id": "vj7kUD6GhWDM",
    "outputId": "e1c5d119-e10f-44a4-d4f1-bf57d7999cf3"
   },
   "outputs": [
    {
     "data": {
      "text/plain": [
       "<matplotlib.axes._subplots.AxesSubplot at 0x7f4bed214fd0>"
      ]
     },
     "execution_count": 13,
     "metadata": {
      "tags": []
     },
     "output_type": "execute_result"
    },
    {
     "data": {
      "image/png": "[encoded data removed]",
      "text/plain": [
       "<Figure size 432x288 with 1 Axes>"
      ]
     },
     "metadata": {
      "needs_background": "light",
      "tags": []
     },
     "output_type": "display_data"
    }
   ],
   "source": [
    "import pandas as pd\n",
    "AAPL = pd.read_csv(\"./data/AAPL.csv\", sep = \",\", header = 0, parse_dates = [0])\n",
    "AAPL.plot(linewidth=0.5, x='Date', y='Open')"
   ]
  },
  {
   "cell_type": "markdown",
   "metadata": {
    "id": "adBlLVAjiBsA"
   },
   "source": [
    "__Finally__, utilize the `df.plot()` method (and any other) useful pandas utilities as above to produce a function that takes our spreadsheet and compares timeseries for a list of named actors, to see how their activity compares over time and between specified individuals."
   ]
  },
  {
   "cell_type": "code",
   "execution_count": null,
   "metadata": {
    "id": "XJPkxNAbjaem"
   },
   "outputs": [],
   "source": [
    "## code here"
   ]
  }
 ],
 "metadata": {
  "colab": {
   "collapsed_sections": [],
   "name": "exercises.ipynb",
   "provenance": []
  },
  "kernelspec": {
   "display_name": "Python 3",
   "language": "python",
   "name": "python3"
  },
  "language_info": {
   "codemirror_mode": {
    "name": "ipython",
    "version": 3
   },
   "file_extension": ".py",
   "mimetype": "text/x-python",
   "name": "python",
   "nbconvert_exporter": "python",
   "pygments_lexer": "ipython3",
   "version": "3.8.5"
  }
 },
 "nbformat": 4,
 "nbformat_minor": 4
}
