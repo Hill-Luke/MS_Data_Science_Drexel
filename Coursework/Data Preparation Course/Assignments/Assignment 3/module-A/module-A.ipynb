{
 "cells": [
  {
   "cell_type": "markdown",
   "metadata": {},
   "source": [
    "## Module submission header\n",
    "### Submission preparation instructions \n",
    "_Completion of this header is mandatory, subject to a 2-point deduction to the assignment._ Only add plain text in the designated areas, i.e., replacing the relevant 'NA's. You must fill out all group member Names and Drexel email addresses in the below markdown list, under header __Module submission group__. It is required to fill out descriptive notes pertaining to any tutoring support received in the completion of this submission under the __Additional submission comments__ section at the bottom of the header. If no tutoring support was received, leave NA in place. You may as well list other optional comments pertaining to the submission at bottom. _Any distruption of this header's formatting will make your group liable to the 2-point deduction._\n",
    "\n",
    "### Module submission group\n",
    "- Group member 1\n",
    "    - Name: NA\n",
    "    - Email: NA\n",
    "- Group member 2\n",
    "    - Name: NA\n",
    "    - Email: NA\n",
    "- Group member 3\n",
    "    - Name: NA\n",
    "    - Email: NA\n",
    "- Group member 4\n",
    "    - Name: NA\n",
    "    - Email: NA\n",
    "\n",
    "### Additional submission comments\n",
    "- Tutoring support received: NA\n",
    "- Other (other): NA"
   ]
  },
  {
   "cell_type": "markdown",
   "metadata": {},
   "source": [
    "# Assignment Group 3\n",
    "\n",
    "## Module A _(28 points)_\n",
    "For this problem, you will be working with [flight data from the Bureau of Transporttaion Statistics](http://stat-computing.org/dataexpo/2009/the-data.html). For development, these data are a little largeish (~700Mb/7 million flights) for prototyping, so two truncated files are provided under `'data/2007-005.csv'` and `'data/2008-005.csv'`. __Important: it's strongly recommended to prototype and develop code using the truncated data.__\n",
    "\n",
    "__Design note:__ The code you will develop as part of this problem's solution should be generalized so that it works when there are more than just two years' worth of data, i.e. when there are more files than just for years `2007` and `2008`. Additionally, all refernce outputs are presented for the half-percent annual flight sample (small files).\n",
    "\n",
    "__To work with the full dataset,__ go to the link and download the data files for 2007 and 2008.  Put these files in the `data/` directory and extract them. (The files can be extracted from the command line by navigating into `data/` and running `bunzip2 200{7..8}.csv.bz2`.\n",
    "\n",
    "__A1.__ _(4 points)_ To start, complete the function to take a year as an input argument and load its data into a `pandas` dataframe. This load should drop the rows in the dataframe that have a null in any of these columns: \"Year\", \"Month\", \"DayofMonth\", \"DepTime\", \"Origin\", and \"Dest\", and then return the result "
   ]
  },
  {
   "cell_type": "code",
   "execution_count": null,
   "metadata": {},
   "outputs": [],
   "source": [
    "# A1:Function(4/4)\n",
    "\n",
    "import pandas as pd\n",
    "\n",
    "def read_data(year, use005 = True):\n",
    "    \n",
    "    filename = \"data/\" + str(year) + (\"-005.csv\" if use005 else \".csv\")\n",
    "    \n",
    "    #---your code starts here---\n",
    "\n",
    "    #---your code stops here---\n",
    "    \n",
    "    return flight_data"
   ]
  },
  {
   "cell_type": "markdown",
   "metadata": {},
   "source": [
    "For reference, your output should be:\n",
    "```\n",
    "   Year  Month  DayofMonth  DayOfWeek  DepTime  CRSDepTime  ArrTime  \\\n",
    "0  2007      1           2          2   1121.0        1120   1218.0   \n",
    "1  2007      1           2          2   1647.0        1640   1754.0   \n",
    "2  2007      1           2          2    950.0         950   1046.0   \n",
    "3  2007      1           2          2   1520.0        1520   1626.0   \n",
    "4  2007      1           2          2   1046.0        1035   1058.0   \n",
    "\n",
    "   CRSArrTime UniqueCarrier  FlightNum  ... TaxiIn  TaxiOut  Cancelled  \\\n",
    "0        1240            WN       1482  ...      7       10          0   \n",
    "1        1750            WN       1663  ...      4        9          0   \n",
    "2        1050            WN        389  ...      3        8          0   \n",
    "3        1645            WN       1781  ...      2        5          0   \n",
    "4        1050            WN       1073  ...      2       13          0   \n",
    "\n",
    "   CancellationCode  Diverted  CarrierDelay WeatherDelay NASDelay  \\\n",
    "0               NaN         0             0            0        0   \n",
    "1               NaN         0             0            0        0   \n",
    "2               NaN         0             0            0        0   \n",
    "3               NaN         0             0            0        0   \n",
    "4               NaN         0             0            0        0   \n",
    "\n",
    "   SecurityDelay  LateAircraftDelay  \n",
    "0              0                  0  \n",
    "1              0                  0  \n",
    "2              0                  0  \n",
    "3              0                  0  \n",
    "4              0                  0  \n",
    "\n",
    "[5 rows x 29 columns]\n",
    "```"
   ]
  },
  {
   "cell_type": "code",
   "execution_count": null,
   "metadata": {},
   "outputs": [],
   "source": [
    "# A1:SanityCheck\n",
    "\n",
    "flights_2007 = read_data(2007)\n",
    "print(flights_2007.head())"
   ]
  },
  {
   "cell_type": "markdown",
   "metadata": {},
   "source": [
    "__A2.__ _(7 points)_ Next, complete the new data-loading functions to create a new column in the dataframe that contains `datetime` objects holding the departure dates of the flights under a new column keyed as `\"DepartureDate\"`."
   ]
  },
  {
   "cell_type": "code",
   "execution_count": null,
   "metadata": {},
   "outputs": [],
   "source": [
    "# A2:Function(3/7)\n",
    "\n",
    "from datetime import datetime, timedelta\n",
    "\n",
    "def create_dep_datetime(row):\n",
    "    \n",
    "    #---your code starts here---\n",
    "\n",
    "    #---your code stops here---\n",
    "    \n",
    "    return datetime(year, month, day)"
   ]
  },
  {
   "cell_type": "markdown",
   "metadata": {},
   "source": [
    "For reference, your output should be:\n",
    "```\n",
    "datetime.datetime(2021, 10, 23, 0, 0)\n",
    "```"
   ]
  },
  {
   "cell_type": "code",
   "execution_count": null,
   "metadata": {},
   "outputs": [],
   "source": [
    "# A2:SanityCheck\n",
    "\n",
    "create_dep_datetime({'Year': 2021, 'Month': 10, 'DayofMonth': 23})"
   ]
  },
  {
   "cell_type": "code",
   "execution_count": null,
   "metadata": {},
   "outputs": [],
   "source": [
    "# A2:Function(4/7)\n",
    "\n",
    "def read_data_parsetimes(year, use005 = True):\n",
    "    \n",
    "    filename = \"data/\" + str(year) + (\"-005.csv\" if use005 else \".csv\")\n",
    "    \n",
    "    #---your code starts here---\n",
    "    \n",
    "    #---your code stops here---\n",
    "    \n",
    "    return flight_data"
   ]
  },
  {
   "cell_type": "markdown",
   "metadata": {},
   "source": [
    "For reference, your output should be:\n",
    "```\n",
    "0   2007-01-02\n",
    "1   2007-01-02\n",
    "2   2007-01-02\n",
    "3   2007-01-02\n",
    "4   2007-01-02\n",
    "Name: DepartureDate, dtype: datetime64[ns]\n",
    "```"
   ]
  },
  {
   "cell_type": "code",
   "execution_count": null,
   "metadata": {},
   "outputs": [],
   "source": [
    "# A2:SanityCheck\n",
    "\n",
    "flights_2007 = read_data_parsetimes(2007)\n",
    "print(flights_2007[\"DepartureDate\"].head())"
   ]
  },
  {
   "cell_type": "markdown",
   "metadata": {},
   "source": [
    "__A3.__ _(5 points)_ Now complete the updated function that must also takes an airport code as an input argument. This should then return a dataframe of flights originating from that airport that occurred in the specified year."
   ]
  },
  {
   "cell_type": "code",
   "execution_count": null,
   "metadata": {},
   "outputs": [],
   "source": [
    "# A3:Function(5/5)\n",
    "\n",
    "def read_data_parsetimes_byorigin(airport, year, use005 = True):\n",
    "    filename = \"data/\" + str(year) + (\"-005.csv\" if use005 else \".csv\")\n",
    "    \n",
    "    #---your code starts here---\n",
    "    \n",
    "    #---your code stops here---\n",
    "    \n",
    "    return flight_data"
   ]
  },
  {
   "cell_type": "markdown",
   "metadata": {},
   "source": [
    "For reference, your output should be:\n",
    "```\n",
    "     Year  Month  DayofMonth  DayOfWeek  DepTime  CRSDepTime  ArrTime  \\\n",
    "27   2007      1           3          3   1730.0        1725   2002.0   \n",
    "74   2007      1           6          6    641.0         645    905.0   \n",
    "75   2007      1           6          6   1107.0        1055   1215.0   \n",
    "139  2007      1          10          3   1447.0        1445   1558.0   \n",
    "140  2007      1          10          3   1949.0        1955   2046.0   \n",
    "\n",
    "     CRSArrTime UniqueCarrier  FlightNum  ... TaxiOut  Cancelled  \\\n",
    "27         2025            WN       1870  ...      11          0   \n",
    "74         1000            WN       2492  ...      10          0   \n",
    "75         1210            WN       2600  ...      11          0   \n",
    "139        1610            WN       2029  ...      10          0   \n",
    "140        2110            WN       1884  ...      13          0   \n",
    "\n",
    "     CancellationCode  Diverted  CarrierDelay  WeatherDelay NASDelay  \\\n",
    "27                NaN         0             0             0        0   \n",
    "74                NaN         0             0             0        0   \n",
    "75                NaN         0             0             0        0   \n",
    "139               NaN         0             0             0        0   \n",
    "140               NaN         0             0             0        0   \n",
    "\n",
    "    SecurityDelay  LateAircraftDelay  DepartureDate  \n",
    "27              0                  0     2007-01-03  \n",
    "74              0                  0     2007-01-06  \n",
    "75              0                  0     2007-01-06  \n",
    "139             0                  0     2007-01-10  \n",
    "140             0                  0     2007-01-10  \n",
    "\n",
    "[5 rows x 30 columns]\n",
    "```"
   ]
  },
  {
   "cell_type": "code",
   "execution_count": null,
   "metadata": {},
   "outputs": [],
   "source": [
    "# A3:SanityCheck\n",
    "\n",
    "print(read_data_parsetimes_byorigin(\"PHL\", 2007).head())"
   ]
  },
  {
   "cell_type": "markdown",
   "metadata": {},
   "source": [
    "__A4.__ _(4 points)_ Using this function, create dataframes holding the flight data for Philadelphia International Airport (PHL) for 2007 and 2008. Then use the `.groupby()` method to obtain the busiest month of the year for both years. Did this change from 2007 to 2008? "
   ]
  },
  {
   "cell_type": "code",
   "execution_count": null,
   "metadata": {},
   "outputs": [],
   "source": [
    "# A4:Inline(2/4)\n",
    "\n",
    "month_07, count_07 = int(), int()\n",
    "\n",
    "# try using .groupby() and .size() to create a count for months\n",
    "# and then finding the month with highest number of flights.\n",
    "#---your code starts here---\n",
    "\n",
    "#---your code stops here---\n",
    "\n",
    "month_07, count_07"
   ]
  },
  {
   "cell_type": "code",
   "execution_count": null,
   "metadata": {},
   "outputs": [],
   "source": [
    "# A4:Inline(1/4)\n",
    "\n",
    "month_08, count_08 = int(), int()\n",
    "\n",
    "# try using .groupby() and .size() to create a count for months\n",
    "# and then finding the month with highest number of flights.\n",
    "#---your code starts here---\n",
    "\n",
    "#---your code stops here---\n",
    "\n",
    "month_08, count_08"
   ]
  },
  {
   "cell_type": "markdown",
   "metadata": {},
   "source": [
    "Was the busiest month the same month for both years, 2007 and 2008?"
   ]
  },
  {
   "cell_type": "code",
   "execution_count": null,
   "metadata": {},
   "outputs": [],
   "source": [
    "# A4:Inline(1/4)\n",
    "\n",
    "# Was the busiest month the same month for both years, 2007 and 2008?\n",
    "# Answer one of: \"Yes\" or \"No\"\n",
    "print(\"<Yes or No>\")"
   ]
  },
  {
   "cell_type": "markdown",
   "metadata": {},
   "source": [
    "__A5.__ _(8 points)_ Finally, complete the updated function that takes two integer tripes of the form `(month, day, year)`, each representing a date as either the `start` or `end` of a range (potentially more than two years long). The function must now return all flights originating from the specified airport _within this range of time_. If the _range_ spans more than two years, it should load data from all necessary files (i.e., assume more than two year-files exist) and return a single dataframe containing all the data within the specified range of time."
   ]
  },
  {
   "cell_type": "code",
   "execution_count": null,
   "metadata": {},
   "outputs": [],
   "source": [
    "# A5:Function(6/8)\n",
    "\n",
    "def read_data_parsetimes_byorigin_daterange(airport, start, end, use005 = True):\n",
    "    \n",
    "    years = []\n",
    "    # this section should collect a interator of years for the loop\n",
    "    # as well as datetime objects for the start and end dates, \n",
    "    # to use for filtration when comparing to the dates of specific flights\n",
    "    #---your code starts here---\n",
    "    \n",
    "    #---your code starts here---\n",
    "    \n",
    "    # this initializes the flight data, which we'll concatenate to via pd, below\n",
    "    flight_data = pd.DataFrame()\n",
    "    for year in years:\n",
    "        \n",
    "        filename = \"data/\" + str(year) + (\"-005.csv\" if use005 else \".csv\")\n",
    "        \n",
    "        #---your code starts here---\n",
    "        \n",
    "        #---your code stops here---\n",
    "                \n",
    "        flight_data = pd.concat([flight_data, flight_data_for_year])\n",
    "    \n",
    "    return flight_data"
   ]
  },
  {
   "cell_type": "markdown",
   "metadata": {},
   "source": [
    "Using this function, get all the flight data for flights from PHL for 2007&ndash;2008. Then, create a daily count of flights over all of the days in the two years and report the busiest day over the two years. Report the earliest date in the case of ties."
   ]
  },
  {
   "cell_type": "code",
   "execution_count": null,
   "metadata": {},
   "outputs": [],
   "source": [
    "# A5:Inline(2/8)\n",
    "\n",
    "busy_day, busy_count = int(), int()\n",
    "\n",
    "#---your code starts here---\n",
    "\n",
    "#---your code stops here---\n",
    "\n",
    "busy_day, busy_count"
   ]
  },
  {
   "cell_type": "markdown",
   "metadata": {},
   "source": [
    "For reference, your output should be:\n",
    "```\n",
    "(Timestamp('2007-01-12 00:00:00'), 5)\n",
    "```"
   ]
  },
  {
   "cell_type": "code",
   "execution_count": null,
   "metadata": {},
   "outputs": [],
   "source": []
  }
 ],
 "metadata": {
  "kernelspec": {
   "display_name": "Python 3 (ipykernel)",
   "language": "python",
   "name": "python3"
  },
  "language_info": {
   "codemirror_mode": {
    "name": "ipython",
    "version": 3
   },
   "file_extension": ".py",
   "mimetype": "text/x-python",
   "name": "python",
   "nbconvert_exporter": "python",
   "pygments_lexer": "ipython3",
   "version": "3.10.1"
  }
 },
 "nbformat": 4,
 "nbformat_minor": 4
}
