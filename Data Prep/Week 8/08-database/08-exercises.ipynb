{
 "cells": [
  {
   "cell_type": "markdown",
   "metadata": {
    "id": "JVhqWh3jyl7N"
   },
   "source": [
    "# DSCI 511: Data acquisition and pre-processing<br>Chapter 8: Establishing a Database with Documentation\n",
    "## In-depth Exercises\n",
    "\n"
   ]
  },
  {
   "cell_type": "markdown",
   "metadata": {
    "id": "aw3O_g0l2RhH"
   },
   "source": [
    "### A. Building and Storing Conversational Thread Topologies\n",
    "\n",
    "Run the script in the cell below to build the reddit data object `data`. We'll be using these throughout the exercise.\n"
   ]
  },
  {
   "cell_type": "code",
   "execution_count": null,
   "metadata": {
    "id": "2B14edCF2TRC"
   },
   "outputs": [],
   "source": [
    "import requests\n",
    "\n",
    "def get_data(sub_id):\n",
    "  post_url = \"https://api.pushshift.io/reddit/search/submission/?ids=\" + sub_id\n",
    "  post = requests.get(post_url)\n",
    "  post_resp = requests.get(post_url)\n",
    "  post = post_resp.json()\n",
    "\n",
    "  data = [post['data'][0]]\n",
    "\n",
    "  comments_url = \"https://api.pushshift.io/reddit/submission/comment_ids/\" + sub_id\n",
    "  comments_resp = requests.get(comments_url)\n",
    "  ids = comments_resp.json()\n",
    "\n",
    "  batch_size = 500\n",
    "  for batch_num in range(len(ids['data'])//batch_size):\n",
    "    url = \"https://api.pushshift.io/reddit/comment/search?ids=\" + ','.join(ids['data'][batch_size*batch_num:batch_size*(batch_num + 1)])\n",
    "    resp = requests.get(url)\n",
    "    batch = resp.json()\n",
    "    data.extend(batch['data'])\n",
    "\n",
    "  if len(data) != len(ids['data']) + 1:\n",
    "    url = \"https://api.pushshift.io/reddit/comment/search?ids=\" + ','.join(ids['data'][len(data):])\n",
    "    resp = requests.get(url)\n",
    "    batch = resp.json()\n",
    "    data.extend(batch['data'])\n",
    "\n",
    "  return(data)\n",
    "\n",
    "sub_id = \"j1dynm\"\n",
    "data = get_data(sub_id)"
   ]
  },
  {
   "cell_type": "markdown",
   "metadata": {
    "id": "ElU19pl14j45"
   },
   "source": [
    "#### A.1 Exercise: Reviewing the Reddit comment data structure\n",
    "As with __Chapter 4's Exercise B.1__, take 5 minutes to review `data`, but this time focus on the following:\n",
    "- What is the overall object type?\n",
    "- What does a single element (comment) look like? (think schema)\n",
    "- How do these data connect together, i.e., where's the 'thread'?\n",
    "\n",
    "Write any responses to these questions that you determine in the response box below."
   ]
  },
  {
   "cell_type": "markdown",
   "metadata": {
    "id": "cubQwqeW5PMy"
   },
   "source": [
    "_Response._"
   ]
  },
  {
   "cell_type": "code",
   "execution_count": null,
   "metadata": {
    "id": "5e7zGFtXpg-6"
   },
   "outputs": [],
   "source": [
    "## code here"
   ]
  },
  {
   "cell_type": "markdown",
   "metadata": {
    "id": "BVc2IX3I5Ub_"
   },
   "source": [
    "#### A.2 Exercise: Fast access by comment id\n",
    "As in __Chapter 4's Exercise B.2__, if we want to be able to quickly interact between comment, a convenient option would be to re-format into a dictionary. In particular, consutrct a `dict` called `comments` from `data` that is of the format:\n",
    "\n",
    "```\n",
    "comments = {\n",
    "  id: comment,\n",
    "  ...\n",
    "}\n",
    "```"
   ]
  },
  {
   "cell_type": "code",
   "execution_count": null,
   "metadata": {
    "id": "zGdqarnLpkuU"
   },
   "outputs": [],
   "source": [
    "## code here"
   ]
  },
  {
   "cell_type": "markdown",
   "metadata": {
    "id": "391CTkoW_OQv"
   },
   "source": [
    "#### A.3 Exercise: Constructing the thread's index\n",
    "Now that we have all of our data in this nice format, it would be great if we could see the actual thread's structure (topology). For this, create a nested dictionary of submission and comment ids, where the keys are the ids, and the values are dictionaries of any replies.\n",
    "\n",
    "For example, a thread with two top-level comments, having one and two replies (respectively) would have the following structure:\n",
    "\n",
    "```\n",
    "{\n",
    "  submission_id:{\n",
    "    comment_id1: {comment_id2: {}},\n",
    "    comment_id3: {comment_id4: {}, comment_id5: {}}\n",
    "  }\n",
    "}\n",
    "```\n",
    "\n",
    "So for this first part, define the `path` of a comment to be a list that contains all `id`s starting from the top of the tree, that must be passed to arrive at the target comment. \n",
    "\n",
    "For example, the `path` for `comment_id2` would be\n",
    "\n",
    "```\n",
    "paths[comment_id2] = [submission_id, comment_id1, comment_id2]\n",
    "```\n",
    "\n",
    "Specify the paths in pseudocode like this for `comment_id5` and `comment_id3` in the markdown cell below."
   ]
  },
  {
   "cell_type": "markdown",
   "metadata": {
    "id": "T6rvZukc7t4J"
   },
   "source": [
    "_Response._"
   ]
  },
  {
   "cell_type": "markdown",
   "metadata": {
    "id": "z_qoDB23z4GF"
   },
   "source": [
    "#### A.4 Determine comment paths recursively\n",
    "In this part of the problem your job is to write a function:\n",
    "\n",
    "```\n",
    "def get_path(post_id, posts, subpath = []):\n",
    "...\n",
    "  \n",
    "```\n",
    "\n",
    "where `post_id` is the `post['id']` identifier for a `post`, and `posts` is a dictioany of all posts in the thread keyed by id (includng the main submission and all comments).\n",
    "\n",
    "Importantly, the `subpath` argument will begin as an empty list and be constructed recursively. __Important__: As a caveat to start, the first time through in Case 1 (below) the `subpath` should immediately be seeded with the `post_id`.\n",
    "\n",
    "In particular, `get_path()` should perform either one of two cases:\n",
    "\n",
    "1. if the post is not the main submission&mdash;__when it has a `parent_id`__&mdash;this function determines the next piece missing (the `parent_id`) from the subpath (starting from right to left), and places it at the front of an `updated_subpath`. This updated subpath is then used to `return get_path(parent_id, posts)`. Note: this is the recursive step where the function calls itself.\n",
    "2. if the post is the main submission, i.e., it __has no `parent_id`__, then the job is already completed and you must `return` the `subpath`.\n",
    "\n"
   ]
  },
  {
   "cell_type": "code",
   "execution_count": null,
   "metadata": {
    "id": "R4YRv3VjpxjB"
   },
   "outputs": [],
   "source": [
    "## code here"
   ]
  },
  {
   "cell_type": "markdown",
   "metadata": {
    "id": "ZK8Yo_RL70oZ"
   },
   "source": [
    "#### A.5 Build the branching thread object\n",
    "For this part we'll initialize our branching thread object as a `tree` data type (a recursive dictionary) by building from defauldict:\n",
    "\n",
    "```\n",
    "from collections import defaultdict\n",
    "tree = lambda: defaultdict(tree)\n",
    "```\n",
    "\n",
    "With this you can start by calling:\n",
    "\n",
    "```\n",
    "thread = tree()\n",
    "```\n",
    "\n",
    "To populate our thread, build another function:\n",
    "\n",
    "```\n",
    "def branch(thread, path):\n",
    "...\n",
    "```\n",
    "\n",
    "where now, the `thread` is as above, and `path` is the result from `get_path(post_id, posts, [])`, for any `post_id`, i.e., `path` is the index for `post_id` in the `thread`, which we will utilize to build the `thread`'s structure.\n",
    "\n",
    "In particulr, `branch` must do either:\n",
    "\n",
    "1. if the path has more than one element apply itself (recursively) towards its leave node, by calling: `branch(thread[path[0]], path[1:])` or\n",
    "2. if the path has only one element (i.e., the element is a leaf), set its value to an empty dictionary setting: `thread[path[0]] = {}`.\n",
    "\n",
    "When this function has completed its operation, the `thread` object should be populated through mutability and recursion."
   ]
  },
  {
   "cell_type": "code",
   "execution_count": null,
   "metadata": {
    "id": "Z9DgVSKVp02U"
   },
   "outputs": [],
   "source": [
    "## code here"
   ]
  }
 ],
 "metadata": {
  "colab": {
   "collapsed_sections": [],
   "name": "exercises.ipynb",
   "provenance": []
  },
  "kernelspec": {
   "display_name": "Python 3",
   "language": "python",
   "name": "python3"
  },
  "language_info": {
   "codemirror_mode": {
    "name": "ipython",
    "version": 3
   },
   "file_extension": ".py",
   "mimetype": "text/x-python",
   "name": "python",
   "nbconvert_exporter": "python",
   "pygments_lexer": "ipython3",
   "version": "3.8.5"
  }
 },
 "nbformat": 4,
 "nbformat_minor": 4
}
