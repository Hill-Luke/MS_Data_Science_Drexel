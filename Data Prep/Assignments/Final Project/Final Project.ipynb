{
 "cells": [
  {
   "cell_type": "code",
   "execution_count": 4,
   "metadata": {},
   "outputs": [],
   "source": [
    "from pprint import pprint\n",
    "import requests"
   ]
  },
  {
   "cell_type": "code",
   "execution_count": 6,
   "metadata": {},
   "outputs": [
    {
     "name": "stdout",
     "output_type": "stream",
     "text": [
      "('{\"success\":true,\"pagination\":{\"page\":1,\"perPage\":40,\"totalItems\":1,\"totalPages\":1},\"cities\":[{\"@type\":\"City\",\"identifier\":\"jambase:4219129\",\"name\":\"San '\n",
      " 'Antonio\",\"geo\":{\"@type\":\"GeoCoordinates\",\"latitude\":29.4722,\"longitude\":-98.5247},\"address\":{\"@type\":\"PostalAddress\",\"addressRegion\":\"US-TX\",\"addressCountry\":\"US\"},\"containedInPlace\":{\"@type\":\"AdministrativeArea\",\"identifier\":\"jambase:61\",\"name\":\"San '\n",
      " 'Antonio '\n",
      " 'Area\",\"geo\":{\"type\":\"GeoCoordinates\",\"latitude\":29.4722,\"longitude\":-98.5247},\"address\":{\"@type\":\"PostalAddress\",\"addressRegion\":\"US-TX\",\"addressCountry\":\"US\"},\"containsPlace\":[],\"x-primaryCityId\":\"jambase:4219129\",\"x-numUpcomingEvents\":289},\"x-timezone\":\"America\\\\/Chicago\",\"x-numUpcomingEvents\":243}],\"request\":{\"endpoint\":\"https:\\\\/\\\\/www.jambase.com\\\\/jb-api\\\\/v1\\\\/geographies\\\\/cities\",\"method\":\"GET\",\"params\":{\"geoCityName\":\"San '\n",
      " 'Antonio\",\"geoCountryIso2\":\"US\",\"cityHasUpcomingEvents\":\"true\",\"apikey\":\"961d6740-8d84-4af8-847c-87174bec671c\"},\"ip\":\"2600:1700:1474:709f:745c:fac3:960a:897f\",\"userAgent\":\"\"}}')\n"
     ]
    }
   ],
   "source": [
    "# Jambase API Key\n",
    "jambase='961d6740-8d84-4af8-847c-87174bec671c'\n",
    "\n",
    "import http.client\n",
    "\n",
    "conn = http.client.HTTPSConnection(\"www.jambase.com\")\n",
    "\n",
    "headers = { 'Accept': \"application/json\" }\n",
    "\n",
    "conn.request(\"GET\", f\"/jb-api/v1/geographies/cities?geoCityName=San+Antonio&geoCountryIso2=US&cityHasUpcomingEvents=true&apikey={jambase}\", headers=headers)\n",
    "\n",
    "res = conn.getresponse()\n",
    "data = res.read()\n",
    "\n",
    "pprint(data.decode(\"utf-8\"))"
   ]
  },
  {
   "cell_type": "code",
   "execution_count": 3,
   "metadata": {},
   "outputs": [],
   "source": [
    "# Here's the same request in cURL\n",
    "\n",
    "#curl --request GET \\\n",
    "#  --url 'https://www.jambase.com/jb-api/v1/events/id/axs:eventId?apikey=123' \\\n",
    "#  --header 'Accept: application/json'"
   ]
  },
  {
   "cell_type": "code",
   "execution_count": 13,
   "metadata": {},
   "outputs": [
    {
     "name": "stdout",
     "output_type": "stream",
     "text": [
      "Access Token: BQAPCJDXhE2mfR2tmNQXPeEi8NyNjdMhN58WBViudEV92XzVWUOF1L971WOUW9rqV3AMVkqoBWXgUzX_3oNyhF3PJFW-vWTYnrc_9affipD1FzxiYLk\n"
     ]
    }
   ],
   "source": [
    "# Spotify API request:\n",
    "\n",
    "#IMPORTANT: API resets after one hour of use!\n",
    "\n",
    "import requests\n",
    "\n",
    "url = \"https://accounts.spotify.com/api/token\"\n",
    "headers = {\n",
    "    \"Content-Type\": \"application/x-www-form-urlencoded\"\n",
    "}\n",
    "\n",
    "data = {\n",
    "    \"grant_type\": \"client_credentials\",\n",
    "    \"client_id\": \"22ba93d78b104ade8f90c67ec7cd1e35\",\n",
    "    \"client_secret\": \"7c3fb228e7d94fd7808614993728843e\"\n",
    "}\n",
    "\n",
    "response = requests.post(url, headers=headers, data=data)\n",
    "\n",
    "if response.status_code == 200:\n",
    "    access_token = response.json()[\"access_token\"]\n",
    "    print(\"Access Token:\", access_token)\n",
    "    #access_token='Bearer '+ access_token\n",
    "else:\n",
    "    print(\"Failed to retrieve access token. Status code:\", response.status_code)\n",
    "\n"
   ]
  },
  {
   "cell_type": "code",
   "execution_count": 14,
   "metadata": {},
   "outputs": [
    {
     "name": "stdout",
     "output_type": "stream",
     "text": [
      "https://accounts.spotify.com/authorize?response_type=token&client_id=22ba93d78b104ade8f90c67ec7cd1e35&scope=user-follow-read&redirect_uri=http://localhost:8080&state=MkADDDvZJcPSWikr\n"
     ]
    }
   ],
   "source": [
    "import random\n",
    "import string\n",
    "\n",
    "# Define the client_id, redirect_uri, and scope\n",
    "client_id = '22ba93d78b104ade8f90c67ec7cd1e35'\n",
    "redirect_uri = 'http://localhost:8080'\n",
    "scope = 'user-follow-read'\n",
    "\n",
    "# Generate a random state string\n",
    "stateKey = 'state_key'  # Assuming you have a variable for stateKey\n",
    "state = ''.join(random.choice(string.ascii_letters) for _ in range(16))\n",
    "# You can use the 'stateKey' variable for localStorage as well, similar to the original code\n",
    "\n",
    "# Build the URL\n",
    "url = 'https://accounts.spotify.com/authorize'\n",
    "url += '?response_type=token'\n",
    "url += f'&client_id={client_id}'\n",
    "url += f'&scope={scope}'\n",
    "url += f'&redirect_uri={redirect_uri}'\n",
    "url += f'&state={state}'\n",
    "\n",
    "print(url)"
   ]
  },
  {
   "cell_type": "code",
   "execution_count": 12,
   "metadata": {},
   "outputs": [
    {
     "name": "stdout",
     "output_type": "stream",
     "text": [
      "Request failed with status code: 403\n",
      "{\n",
      "  \"error\" : {\n",
      "    \"status\" : 403,\n",
      "    \"message\" : \"Insufficient client scope\"\n",
      "  }\n",
      "}\n"
     ]
    }
   ],
   "source": [
    "# Define the URL and headers\n",
    "url='https://api.spotify.com/v1/me/following?type=artist'\n",
    "headers = {\n",
    "    \"Authorization\": f\"Bearer {access_token}\"\n",
    "}\n",
    "\n",
    "# Make the GET request using the requests library\n",
    "response = requests.get(url, headers=headers)\n",
    "\n",
    "# Check the response status code\n",
    "if response.status_code == 200:\n",
    "    # Request was successful\n",
    "    data = response.json()  # Parse the response as JSON\n",
    "    print(data)\n",
    "else:\n",
    "    print(f\"Request failed with status code: {response.status_code}\")\n",
    "    print(response.text)  # Print the response content for debugging\n"
   ]
  },
  {
   "cell_type": "code",
   "execution_count": null,
   "metadata": {},
   "outputs": [],
   "source": []
  }
 ],
 "metadata": {
  "kernelspec": {
   "display_name": "gradschool",
   "language": "python",
   "name": "python3"
  },
  "language_info": {
   "codemirror_mode": {
    "name": "ipython",
    "version": 3
   },
   "file_extension": ".py",
   "mimetype": "text/x-python",
   "name": "python",
   "nbconvert_exporter": "python",
   "pygments_lexer": "ipython3",
   "version": "3.10.12"
  }
 },
 "nbformat": 4,
 "nbformat_minor": 2
}
