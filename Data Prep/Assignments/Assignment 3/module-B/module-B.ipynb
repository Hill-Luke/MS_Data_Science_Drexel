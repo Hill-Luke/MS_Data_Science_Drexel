{
 "cells": [
  {
   "cell_type": "markdown",
   "metadata": {},
   "source": [
    "## Module submission header\n",
    "### Submission preparation instructions \n",
    "_Completion of this header is mandatory, subject to a 2-point deduction to the assignment._ Only add plain text in the designated areas, i.e., replacing the relevant 'NA's. You must fill out all group member Names and Drexel email addresses in the below markdown list, under header __Module submission group__. It is required to fill out descriptive notes pertaining to any tutoring support received in the completion of this submission under the __Additional submission comments__ section at the bottom of the header. If no tutoring support was received, leave NA in place. You may as well list other optional comments pertaining to the submission at bottom. _Any distruption of this header's formatting will make your group liable to the 2-point deduction._\n",
    "\n",
    "### Module submission group\n",
    "- Group member 1\n",
    "    - Name: NA\n",
    "    - Email: NA\n",
    "- Group member 2\n",
    "    - Name: NA\n",
    "    - Email: NA\n",
    "- Group member 3\n",
    "    - Name: NA\n",
    "    - Email: NA\n",
    "- Group member 4\n",
    "    - Name: NA\n",
    "    - Email: NA\n",
    "\n",
    "### Additional submission comments\n",
    "- Tutoring support received: NA\n",
    "- Other (other): NA"
   ]
  },
  {
   "cell_type": "markdown",
   "metadata": {},
   "source": [
    "# Assignment Group 3\n",
    "## Module B _(20 points)_\n",
    "\n",
    "In this problem, you will be using the [Baseball Databank provided by Sean Lahman](http://seanlahman.com/baseball-archive/statistics/). This data is already in the `data/baseballdatabank2017.1/core/` directory. It contains a collection of tables. The immediate goal will be to create a dataframe that has the following information for each baseball player:\n",
    "\n",
    "- Batting statistics (to be described)\n",
    "- Fielding statistics (to be described)\n",
    "- Pitching statistics (to be described)\n",
    "- Their salaries\n",
    "- The teams they played for\n",
    "- Their full names: First Middle Last\n",
    "- Their heights and weights\n",
    "\n",
    "The dataset has a data dictionary available at:\n",
    "\n",
    "- `../data/baseballdatabank-2017.1/core/readme2014.txt`\n",
    "\n",
    "The data and tables you will need are:\n",
    "\n",
    "- `Appearances.csv`\n",
    "    - The year id\n",
    "    - The player id\n",
    "    - The team id\n",
    "- `Batting.csv`\n",
    "    - The number of games played and at bats\n",
    "    - The number of runs, hits, doubles, triples, homeruns, RBIs, strikeouts, and times hit by pitch\n",
    "- `Fielding.csv`\n",
    "    - The number of games played\n",
    "    - The number of opponents put out, assisted outs, and fielding errors\n",
    "- `Master.csv`\n",
    "    - Their full names\n",
    "    - Their heights and weights\n",
    "- `Pitching.csv`\n",
    "    - The number of games played, won, lost\n",
    "    - The number of strikeouts, hits, earned runs, homeruns, and batters hit by pitches   \n",
    "- `Salaries.csv`\n",
    "    - The players salary\n",
    "- `Teams.csv`\n",
    "    - The name of the player's team\n",
    "    - The year the team was named its name"
   ]
  },
  {
   "cell_type": "markdown",
   "metadata": {},
   "source": [
    "__B1.__ _(4 points)_ First, complete the function below, which should load the data, keeping only the columns of interest. "
   ]
  },
  {
   "cell_type": "code",
   "execution_count": null,
   "metadata": {},
   "outputs": [],
   "source": [
    "# B1:Function(4/4)\n",
    "\n",
    "import pandas as pd\n",
    "\n",
    "def load_columns_of_interest(path_to_databank_core = 'data/baseballdatabank-2017.1/core/'):\n",
    "    (appearances_file, batting_file, \n",
    "     fielding_file, master_file, pitching_file, \n",
    "     salaries_file, teams_file) = [path_to_databank_core + table_file\n",
    "                                   for table_file in [\"Appearances.csv\", \"Batting.csv\", \n",
    "                                                      \"Fielding.csv\", \"Master.csv\", \n",
    "                                                      \"Pitching.csv\", \"Salaries.csv\", \n",
    "                                                      \"Teams.csv\"]]    \n",
    "    ## load the  various tables' data,\n",
    "    ## keeping only the necessary keys specified above\n",
    "    #---your code starts here---\n",
    "    \n",
    "    #---your code stops here---\n",
    "    \n",
    "    return [appearances, batting, fielding, master, pitching, salaries, teams]\n"
   ]
  },
  {
   "cell_type": "markdown",
   "metadata": {},
   "source": [
    "For reference, your output should be:\n",
    "```\n",
    "    playerID  yearID teamID  salary\n",
    "0  barkele01    1985    ATL  870000\n",
    "1  bedrost01    1985    ATL  550000\n",
    "2  benedbr01    1985    ATL  545000\n",
    "3   campri01    1985    ATL  633333\n",
    "4  ceronri01    1985    ATL  625000\n",
    "```"
   ]
  },
  {
   "cell_type": "code",
   "execution_count": null,
   "metadata": {},
   "outputs": [],
   "source": [
    "# B1:SanityCheck\n",
    "\n",
    "baseball_data = load_columns_of_interest('data/baseballdatabank-2017.1/core/')\n",
    "print(baseball_data[-2].head())"
   ]
  },
  {
   "cell_type": "markdown",
   "metadata": {},
   "source": [
    "__B2.__ _(5 points)_ Next, complete the function below, which takes a year as input and outputs subsets of each of the tables with data from only that year. [Hint. Use Boolean masks!]"
   ]
  },
  {
   "cell_type": "code",
   "execution_count": null,
   "metadata": {},
   "outputs": [],
   "source": [
    "# B2:Function(5/5)\n",
    "\n",
    "def FilterByYear(year, baseball_data):\n",
    "    (appearances, batting, fielding, \n",
    "     master, pitching, salaries, teams) = baseball_data\n",
    "    \n",
    "    ## filter the relevant tables by year.\n",
    "    ## complete the filtration task for the relevant tables\n",
    "    \n",
    "    #---your code starts here---\n",
    "    \n",
    "    #---your code stops here---\n",
    "    \n",
    "    return(appearances_filtered, batting_filtered, \n",
    "           fielding_filtered, master_filtered,\n",
    "           pitching_filtered, salaries_filtered, teams_filtered)"
   ]
  },
  {
   "cell_type": "markdown",
   "metadata": {},
   "source": [
    "For reference, your output should be:\n",
    "```\n",
    "       playerID  yearID teamID  salary\n",
    "1288  ackerji01    1987    ATL  350000\n",
    "1289  alexado01    1987    ATL  650000\n",
    "1290  assenpa01    1987    ATL   80000\n",
    "1291  barkele01    1987    ATL  890000\n",
    "1292  benedbr01    1987    ATL  615000\n",
    "```"
   ]
  },
  {
   "cell_type": "code",
   "execution_count": null,
   "metadata": {},
   "outputs": [],
   "source": [
    "# B2:SanityCheck\n",
    "\n",
    "print(FilterByYear(1987, baseball_data)[-2].head())"
   ]
  },
  {
   "cell_type": "markdown",
   "metadata": {},
   "source": [
    "__B3.__ _(8 points)_ Next, complete the function below. It will again take a year as input, and then use the previous filtering function to get separate tables. \n",
    "\n",
    "Your job is to merge these tables using the appropriate joins. Determine which columns have the same names but different values, then determine a useful naming scheme of suffixes that indicates the table the column was originally drawn from. Use this scheme in combination with the `suffixes` argument of the `merge()` function to avoid column name conflicts. Also remove duplicate columns from the merged table."
   ]
  },
  {
   "cell_type": "code",
   "execution_count": null,
   "metadata": {},
   "outputs": [],
   "source": [
    "# B3:Function(8/8)\n",
    "\n",
    "def MergeTables(year, baseball_data):\n",
    "    \n",
    "    (appearances_filtered, batting_filtered, \n",
    "     fielding_filtered, master_filtered,\n",
    "     pitching_filtered, salaries_filtered, teams_filtered) = FilterByYear(year, baseball_data)\n",
    "    \n",
    "    ## start the merged dataframe off with the appearances data\n",
    "    merged = pd.DataFrame(appearances_filtered)\n",
    "    \n",
    "    ## first, merge on the batting  data\n",
    "    #---your code starts here---\n",
    "    \n",
    "    #---your code stops here---\n",
    "    \n",
    "    \n",
    "    ## merge on the fielding data\n",
    "    #---your code starts here---\n",
    "    \n",
    "    #---your code stops here---\n",
    "    \n",
    "    \n",
    "    ## merge on the player data\n",
    "    #---your code starts here---\n",
    "    \n",
    "    #---your code stops here---\n",
    "    \n",
    "    ## merge on the pitching data\n",
    "    #---your code starts here---\n",
    "    \n",
    "    #---your code stops here---\n",
    "    \n",
    "    ## merge on the salaries data\n",
    "    #---your code starts here---\n",
    "    \n",
    "    #---your code stops here---\n",
    "    \n",
    "    ## merge on the teams data\n",
    "    #---your code starts here---\n",
    "    \n",
    "    #---your code stops here---\n",
    "    \n",
    "    ## Drop the (now) extra yearID keys\n",
    "    ## add more keys to drop to the list here\n",
    "    #---your code starts here---\n",
    "    \n",
    "    #---your code stops here---\n",
    "    \n",
    "    return(merged)"
   ]
  },
  {
   "cell_type": "markdown",
   "metadata": {},
   "source": [
    "For referene, your output should be:\n",
    "```\n",
    "   yearID   playerID teamID    G   AB    R    H  2B  3B  HR  ...   G_p    W  \\\n",
    "0    2008  aardsda01    BOS   47    1    0    0   0   0   0  ...  47.0  4.0   \n",
    "1    2008  abercre01    HOU   34   55   10   17   5   0   2  ...   NaN  NaN   \n",
    "2    2008  abreubo01    NYA  156  609  100  180  39   4  20  ...   NaN  NaN   \n",
    "3    2008  accarje01    TOR   16    0    0    0   0   0   0  ...  16.0  0.0   \n",
    "4    2008  aceveal01    NYA    6    0    0    0   0   0   0  ...   6.0  1.0   \n",
    "\n",
    "     L  SO_p   H_p    ER  HR_p HBP_p      salary               name  \n",
    "0  2.0  49.0  49.0  30.0   4.0   5.0    403250.0     Boston Red Sox  \n",
    "1  NaN   NaN   NaN   NaN   NaN   NaN         NaN     Houston Astros  \n",
    "2  NaN   NaN   NaN   NaN   NaN   NaN  16000000.0   New York Yankees  \n",
    "3  3.0   5.0  15.0   9.0   1.0   1.0    392200.0  Toronto Blue Jays  \n",
    "4  0.0  16.0  25.0   8.0   4.0   0.0         NaN   New York Yankees\n",
    "```"
   ]
  },
  {
   "cell_type": "code",
   "execution_count": null,
   "metadata": {},
   "outputs": [],
   "source": [
    "# B3:SanityCheck\n",
    "\n",
    "merged = MergeTables(2008, baseball_data)\n",
    "print(merged.head())"
   ]
  },
  {
   "cell_type": "markdown",
   "metadata": {},
   "source": [
    "__B4.__ _(3 points)_ Now that the data are merged, we should note: there may be nulls. Determine how to deal with the NAs and apply this strategy. Complete the inline cell below to fill the NAs with zeros, or some other more, potentially more-reasonable values."
   ]
  },
  {
   "cell_type": "code",
   "execution_count": null,
   "metadata": {},
   "outputs": [],
   "source": [
    "# B4:Inline(2/3)\n",
    "\n",
    "#--- your code starts here---\n",
    "\n",
    "#--- your code stops here---\n",
    "\n",
    "# filter all entries with non-zero salary\n",
    "merged[\"salary\"].isna().sum()"
   ]
  },
  {
   "cell_type": "markdown",
   "metadata": {},
   "source": [
    "For reference, what should the output from the previous cell be?"
   ]
  },
  {
   "cell_type": "code",
   "execution_count": null,
   "metadata": {},
   "outputs": [],
   "source": [
    "# B4:Inline(1/3)\n",
    "\n",
    "# What should the output from the previous cell be?\n",
    "# print any non-negative integer, e.g., 7\n",
    "print(\"<any non-negative integer, e.g., 7>\")"
   ]
  },
  {
   "cell_type": "code",
   "execution_count": null,
   "metadata": {},
   "outputs": [],
   "source": []
  }
 ],
 "metadata": {
  "kernelspec": {
   "display_name": "Python 3 (ipykernel)",
   "language": "python",
   "name": "python3"
  },
  "language_info": {
   "codemirror_mode": {
    "name": "ipython",
    "version": 3
   },
   "file_extension": ".py",
   "mimetype": "text/x-python",
   "name": "python",
   "nbconvert_exporter": "python",
   "pygments_lexer": "ipython3",
   "version": "3.10.1"
  }
 },
 "nbformat": 4,
 "nbformat_minor": 4
}
