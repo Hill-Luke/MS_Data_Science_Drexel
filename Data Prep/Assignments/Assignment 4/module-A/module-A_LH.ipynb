{
 "cells": [
  {
   "cell_type": "markdown",
   "metadata": {},
   "source": [
    "## Module submission header\n",
    "### Submission preparation instructions \n",
    "_Completion of this header is mandatory, subject to a 2-point deduction to the assignment._ Only add plain text in the designated areas, i.e., replacing the relevant 'NA's. You must fill out all group member Names and Drexel email addresses in the below markdown list, under header __Module submission group__. It is required to fill out descriptive notes pertaining to any tutoring support received in the completion of this submission under the __Additional submission comments__ section at the bottom of the header. If no tutoring support was received, leave NA in place. You may as well list other optional comments pertaining to the submission at bottom. _Any distruption of this header's formatting will make your group liable to the 2-point deduction._\n",
    "\n",
    "### Module submission group\n",
    "- Group member 1\n",
    "    - Name: Luke Hill\n",
    "    - Email: lh967@drexel.edu\n",
    "\n",
    "### Additional submission comments\n",
    "- Tutoring support received: NA\n",
    "- Other (other): NA"
   ]
  },
  {
   "cell_type": "markdown",
   "metadata": {},
   "source": [
    "# Assignment Group 4\n",
    "\n",
    "## Module A _(46 points)_\n",
    "For this assignment your work will set up a toolkit for plain text enhancement and summarization that can be reused later. Specifically, you'll use an API service known as 'Wikifier' which embeds hyperlink references to encyclopedia articles.\n",
    "\n",
    "Throughout this problem, we're going to be working with the Wikifier API, which is \"a web service that takes a text document as input and annotates it with links to relevant Wikipedia concepts\". So, before we can begin with the actual work, it's necessary to request access to this API at the following link: http://wikifier.org/info.html. Read this documentation and familiarize yourself with it, and make sure to register for a `userKey`.\n",
    "Store your `userKey` in the below cell:"
   ]
  },
  {
   "cell_type": "code",
   "execution_count": 2,
   "metadata": {},
   "outputs": [],
   "source": [
    "import requests\n",
    "USER_KEY = \"dvkmwpvrlkrccgioyxbcefudeonxub\""
   ]
  },
  {
   "cell_type": "markdown",
   "metadata": {},
   "source": [
    "__A1.__ _(7 points)_ We're going to make requests to Wikifier. For this, complete the below function that takes a block of text and Wikifier API `KEY` as input, and outputs the JSON response given by the Wikification API (per the following specifications) interpreted as a Python object (deserialized). \n",
    "\n",
    "__Important__: For full credit you must read the Wikifier docs: http://wikifier.org/info.html and determine how to build a URL that sets the `'applyPageRankSqThreshold'` field to `True` whenever the `threshold` parameter is non-zero, which should be used to parameterize the corresponding `'pageRankSqThreshold'` field alongside the `language` parameter (for the `'lang'` field), and `KEY` for the `'userKey'` field and `text` for `'text'`."
   ]
  },
  {
   "cell_type": "code",
   "execution_count": 3,
   "metadata": {},
   "outputs": [],
   "source": [
    "# A1:Function(7/7)\n",
    "\n",
    "def get_wikifier_response(text, KEY, threshold = 0.8, language = 'en'):\n",
    "    \n",
    "    url = f\"http://www.wikifier.org/annotate-article?text={text}&lang={language}&userKey={KEY}&pageRankSqThreshold={threshold}\"\n",
    "\n",
    "    # Making the GET request\n",
    "    response = requests.get(url)\n",
    "\n",
    "    return(response.json())"
   ]
  },
  {
   "cell_type": "markdown",
   "metadata": {},
   "source": [
    "For reference, your output could be:\n",
    "```\n",
    "(dict_keys(['title', 'url', 'lang', 'pageRank', 'cosine', 'secLang', 'secTitle', 'secUrl', 'wikiDataItemId', 'wikiDataClasses', 'dbPediaTypes', 'dbPediaIri', 'supportLen', 'support']),\n",
    " [([(0, 23)],\n",
    "   'Colonization of the Moon',\n",
    "   'http://en.wikipedia.org/wiki/Colonization_of_the_Moon'),\n",
    "  ([(16, 23),\n",
    "    (20, 23),\n",
    "    (128, 138),\n",
    "    (131, 138),\n",
    "    (135, 138),\n",
    "    (289, 296),\n",
    "    (293, 296)],\n",
    "   'Moon',\n",
    "   'http://en.wikipedia.org/wiki/Moon')])\n",
    "```"
   ]
  },
  {
   "cell_type": "code",
   "execution_count": 4,
   "metadata": {},
   "outputs": [
    {
     "data": {
      "text/plain": [
       "(dict_keys(['title', 'url', 'lang', 'pageRank', 'cosine', 'secLang', 'secTitle', 'secUrl', 'wikiDataItemId', 'wikiDataClasses', 'dbPediaTypes', 'dbPediaIri', 'supportLen', 'support']),\n",
       " [([(0, 11), (248, 259)],\n",
       "   'Space colonization',\n",
       "   'http://en.wikipedia.org/wiki/Space_colonization'),\n",
       "  ([(0, 14)],\n",
       "   'Spanish colonization of the Americas',\n",
       "   'http://en.wikipedia.org/wiki/Spanish_colonization_of_the_Americas')])"
      ]
     },
     "execution_count": 4,
     "metadata": {},
     "output_type": "execute_result"
    }
   ],
   "source": [
    "# A1:SanityCheck \n",
    "\n",
    "test_wiki = get_wikifier_response(\"\".join([\"Colonization of the Moon is a concept \",\n",
    "                                           \"employed by some proposals of establishing \",\n",
    "                                           \"permanent human settlement or robotic presence on \",\n",
    "                                           \"the Moon, the closest astronomical body to Earth, \",\n",
    "                                           \"and the Earth's only natural satellite.\",\n",
    "                                           \"For a first permanent human space colony \",\n",
    "                                           \"or settlement the choice of the Moon \",\n",
    "                                           \"would benefit from its proximity to Earth.\"]), \n",
    "                                  USER_KEY)\n",
    "(test_wiki['annotations'][0].keys(), \n",
    " [([(sup['chFrom'], sup['chTo']) for sup in z['support']], \n",
    "   z['title'], z['url']) for z in test_wiki['annotations']][:2])"
   ]
  },
  {
   "cell_type": "markdown",
   "metadata": {},
   "source": [
    "__A2.__ _(7 points)_ Now, supposing we wanted to keep track of this text's information alongside others, we'd first want to make sure our data access is simple and reusable, and don't want to cause any server problems for Wikifier. So, write a function called `get_wikification(text_file_path, KEY)` that accepts a `\"path_to/text_file.txt\"` (assuming a `'.txt'` extension) and a Wikifier `userKey`.\n",
    "\n",
    "Your code should load any target text and apply the `get_wikifier_response()` function from __A1__. Make sure your code checks for the availability of a previously-accessed response at the corresponding location: `\"path_to/wiki_file.json\"` (modified to a `'.json'` extension), which should just be re-loaded from your most recent call to the API, and flushed (deleted) manually if/when your code in __A1__ is at any point revised. \n",
    "\n",
    "Note: aside from specifying the `text` and `KEY`, your code should leave all other `get_wikifier_response` parameters as their defaults to meet the target output."
   ]
  },
  {
   "cell_type": "code",
   "execution_count": 7,
   "metadata": {},
   "outputs": [],
   "source": [
    "# A2:Function(7/7)\n",
    "import json, re, os\n",
    "def get_wikification(text_file_path, KEY):\n",
    "    ## first, you must convert the provided text path into\n",
    "    ## the specified path for a .json object response from Wikifier\n",
    "    json_file_path = re.sub(r'\\.txt$', '_wikifier_response.json', text_file_path)\n",
    "\n",
    "    # check to see if the text's file exists\n",
    "    if os.path.exists(json_file_path):\n",
    "        # load any pre-existing data\n",
    "        wiki = json.load(open(json_file_path, 'r', encoding='utf-8'))\n",
    "    else:\n",
    "        ## load the text and use this with your function from A1\n",
    "        ## to get the wikifier response and store the content on disk\n",
    "        with open(text_file_path, 'r', encoding='utf-8') as text_file:\n",
    "            text = text_file.read()\n",
    "\n",
    "        # Call the get_wikifier_response function\n",
    "        wikifier_response = get_wikifier_response(text, KEY)\n",
    "\n",
    "        # Save the response to a JSON file for future use\n",
    "        with open(json_file_path, 'w', encoding='utf-8') as cached_file:\n",
    "            json.dump(wikifier_response, cached_file, ensure_ascii=False, indent=2)\n",
    "\n",
    "        wiki = wikifier_response\n",
    "\n",
    "    return wiki"
   ]
  },
  {
   "cell_type": "markdown",
   "metadata": {},
   "source": [
    "For reference, your output could be:\n",
    "```\n",
    "[(79, 'World War I', 'http://en.wikipedia.org/wiki/World_War_I'),\n",
    " (5, 'Latin', 'http://en.wikipedia.org/wiki/Latin'),\n",
    " (7, 'Europe', 'http://en.wikipedia.org/wiki/Europe'),\n",
    " (2, 'Nuclear weapon', 'http://en.wikipedia.org/wiki/Nuclear_weapon'),\n",
    " (32, 'Washington, D.C.', 'http://en.wikipedia.org/wiki/Washington,_D%2eC%2e')]\n",
    "```"
   ]
  },
  {
   "cell_type": "code",
   "execution_count": 8,
   "metadata": {},
   "outputs": [
    {
     "data": {
      "text/plain": [
       "[(70, 'Nantes', 'http://en.wikipedia.org/wiki/Nantes'),\n",
       " (5, 'Latin', 'http://en.wikipedia.org/wiki/Latin'),\n",
       " (3, 'Michael Quatro', 'http://en.wikipedia.org/wiki/Michael_Quatro'),\n",
       " (1, 'Certiorari', 'http://en.wikipedia.org/wiki/Certiorari'),\n",
       " (1,\n",
       "  'Attention (machine learning)',\n",
       "  'http://en.wikipedia.org/wiki/Attention_(machine_learning)')]"
      ]
     },
     "execution_count": 8,
     "metadata": {},
     "output_type": "execute_result"
    }
   ],
   "source": [
    "# A2:SanityCheck\n",
    "\n",
    "unknown_file_path = \"./data/unknown.txt\"\n",
    "unknown_wiki = get_wikification(unknown_file_path, USER_KEY)\n",
    "\n",
    "[(len(z['support']), z['title'], z['url']) for z in unknown_wiki['annotations']][:5]"
   ]
  },
  {
   "cell_type": "markdown",
   "metadata": {},
   "source": [
    "__A3.__ _(6 points)_ Now, to work with the Wikifier output we'll need to go through a few steps. The annotations (embedded links) provided by Wikifer reference specific document indices, i.e., for words (and their tokenization) and for characters. We'll work on the character level because it's more precise. To get this off of the ground, make a function called `build_doc(wiki)` that takes a Wikifier output (`wiki`) and builds up the original document from the `wiki['words']` and `wiki['spaces']` fields. \n",
    "\n",
    "\\[__Hint.__ These two fields alternate,  with `wiki['spaces']` having exactly one more element than `wiki['words']`, i.e., a rebuilt document will join the elements of the two with the first element coming from `wiki['spaces']`\\]."
   ]
  },
  {
   "cell_type": "code",
   "execution_count": 14,
   "metadata": {},
   "outputs": [],
   "source": [
    "def build_doc(wiki):\n",
    "    doc = []\n",
    "    \n",
    "    # Iterate through words and spaces to reconstruct the document\n",
    "    min_len = min(len(wiki['spaces']), len(wiki['words']))\n",
    "    \n",
    "    for i in range(min_len):\n",
    "        doc.append(wiki['spaces'][i] + wiki['words'][i])\n",
    "\n",
    "    # Add the remaining words if any\n",
    "    doc.extend(wiki['words'][min_len:])\n",
    "\n",
    "    doc = \"\".join(doc)\n",
    "\n",
    "    return doc\n",
    "\n"
   ]
  },
  {
   "cell_type": "markdown",
   "metadata": {},
   "source": [
    "For reference, your output should be:\n",
    "```\n",
    "Mannie, at Mike's request, attends an anti-Authority meeting with a hidden recorder. \n",
    "```"
   ]
  },
  {
   "cell_type": "code",
   "execution_count": 15,
   "metadata": {},
   "outputs": [
    {
     "name": "stdout",
     "output_type": "stream",
     "text": [
      "Mannie, at Mike's request, attends an anti-Authority meeting with a hidden recorder. \n"
     ]
    }
   ],
   "source": [
    "# A3:SanityCheck\n",
    "\n",
    "doc = build_doc(unknown_wiki)\n",
    "print(doc[:85])"
   ]
  },
  {
   "cell_type": "markdown",
   "metadata": {},
   "source": [
    "__A4.__ _(6 points)_ Now that we can get the document back together we'll also want to collect the links to insert them as annotations. So complete the below function called `get_links(wiki)` that processes the `annotation` objects from the `wiki['annotations']` field (a list of `annotation` objects), and creates/outputs a data object called links, which is a list of tuples:\n",
    "```\n",
    "links = [(chFrom, chTo, hyperlink), ...]\n",
    "```\n",
    "Hyperlinks will come from `annotation[\"url\"]`, and the `chFrom` and `chTo` elements represent character ranges corresponding to embeddings of `annotation[\"url\"]` in the document. Note that there are multiple character ranges: one for each `support` object in `annotation[\"support\"]` (also a list).  Specifically, each `support` object in the annotation field has two character indices keyed as `support[\"chFrom\"]` and `support[\"chTo\"]` which designate a range (in character indices) over which the hyperlink might well be embedded. "
   ]
  },
  {
   "cell_type": "code",
   "execution_count": 16,
   "metadata": {},
   "outputs": [],
   "source": [
    "def get_links(wiki):\n",
    "    links = []\n",
    "\n",
    "    # Iterate through each annotation in the 'annotations' field\n",
    "    for annotation in wiki['annotations']:\n",
    "        # Iterate through each support object in the 'support' field of the annotation\n",
    "        for support in annotation['support']:\n",
    "            # Extract character indices and hyperlink\n",
    "            ch_from = support['chFrom']\n",
    "            ch_to = support['chTo']\n",
    "            hyperlink = annotation['url']\n",
    "\n",
    "            # Add the information as a tuple to the 'links' list\n",
    "            links.append((ch_from, ch_to, hyperlink))\n",
    "\n",
    "    return links"
   ]
  },
  {
   "cell_type": "markdown",
   "metadata": {},
   "source": [
    "For reference, your output could be:\n",
    "```\n",
    "(382,\n",
    " [(0, (6, 6, 'http://en.wikipedia.org/wiki/World_War_I')),\n",
    "  (100, (1092, 1092, 'http://en.wikipedia.org/wiki/Washington,_D%2eC%2e')),\n",
    "  (200, (3867, 3868, 'http://en.wikipedia.org/wiki/COVID-19_pandemic')),\n",
    "  (300, (3575, 3581, 'http://en.wikipedia.org/wiki/Public_opinion'))])\n",
    "```"
   ]
  },
  {
   "cell_type": "code",
   "execution_count": 17,
   "metadata": {},
   "outputs": [
    {
     "data": {
      "text/plain": [
       "(1013,\n",
       " [(0, (6, 6, 'http://en.wikipedia.org/wiki/Nantes')),\n",
       "  (100, (2177, 2177, 'http://en.wikipedia.org/wiki/Year')),\n",
       "  (200, (2568, 2570, 'http://en.wikipedia.org/wiki/COVID-19_pandemic')),\n",
       "  (300, (548, 550, 'http://en.wikipedia.org/wiki/Gleichschaltung')),\n",
       "  (400, (337, 341, 'http://en.wikipedia.org/wiki/Wheat')),\n",
       "  (500,\n",
       "   (2802, 2803, 'http://en.wikipedia.org/wiki/Jin_dynasty_(266%e2%80%93420)')),\n",
       "  (600, (1014, 1021, 'http://en.wikipedia.org/wiki/Sexual_intercourse')),\n",
       "  (700, (1733, 1748, 'http://en.wikipedia.org/wiki/Armenia')),\n",
       "  (800, (2530, 2532, 'http://en.wikipedia.org/wiki/OECD')),\n",
       "  (900, (3613, 3615, 'http://en.wikipedia.org/wiki/Archaeology')),\n",
       "  (1000,\n",
       "   (4832, 4838, 'http://en.wikipedia.org/wiki/Drop_It_Like_It%27s_Hot'))])"
      ]
     },
     "execution_count": 17,
     "metadata": {},
     "output_type": "execute_result"
    }
   ],
   "source": [
    "# A4:SanityCheck\n",
    "\n",
    "links = get_links(unknown_wiki)\n",
    "len(links), [(i, link) for i, link in enumerate(links) if not i % 100][:25]"
   ]
  },
  {
   "cell_type": "markdown",
   "metadata": {},
   "source": [
    "__A5.__ _(5 points)_ Your next job is to complete the `embed_link(doc, link)` function that takes the full document output from __A3__, and, a given link (list element) from __A4__'s output, produces an updated document with the hyperlink embedded across the specified character span."
   ]
  },
  {
   "cell_type": "code",
   "execution_count": 20,
   "metadata": {},
   "outputs": [],
   "source": [
    "def embed_link(doc, link):\n",
    "    # Extract information from the link\n",
    "    ch_from, ch_to, hyperlink = link\n",
    "\n",
    "    # Embed the hyperlink into the document\n",
    "    embedded_doc = doc[:ch_from] + f'<a href=\"{hyperlink}\">' + doc[ch_from:ch_to] + '</a>' + doc[ch_to:]\n",
    "\n",
    "    return embedded_doc\n"
   ]
  },
  {
   "cell_type": "markdown",
   "metadata": {},
   "source": [
    "For reference, your output should be:\n",
    "```html\n",
    "Mannie, at Mike's request, attends an anti-Authority meeting with a hidden recorder. When police raid the gathering, Mannie flees with <a href=\"http://en.wikipedia.org/wiki/Wyoming\">Wyoming</a>\n",
    "```"
   ]
  },
  {
   "cell_type": "code",
   "execution_count": 21,
   "metadata": {},
   "outputs": [
    {
     "name": "stdout",
     "output_type": "stream",
     "text": [
      "Mannie, at Mike's request, attends an anti-Authority meeting with a hidden recorder. When police raid the gathering, Mannie flees with <a href=\"http://en.wikipedia.org/wiki/Wyoming\">Wyomin</a>g\n"
     ]
    }
   ],
   "source": [
    "# A5:SanityCheck\n",
    "\n",
    "for i, link in enumerate(links):\n",
    "    if link[2] == \"http://en.wikipedia.org/wiki/Wyoming\":\n",
    "        annotated_doc = embed_link(doc[:142], link)\n",
    "        break\n",
    "print(annotated_doc)"
   ]
  },
  {
   "cell_type": "markdown",
   "metadata": {},
   "source": [
    "__A6.__ _(4 points)_ If you haven't yet noticed, there are many link predictions which point to the same page. Embedding all of these together in our document not only won't be informative but simply won't be possible. As a simple first heuristic, complete the function below to filter the links we get from a given `wiki` so that only one embedding (text span) is maintained for each link, _corresponding to the longest span over which they were embedded_. Your job is to track these in the `longest_links` dictionary object, which should be keyed by the URLs, and have values equal to the list-rows returned by the `get_links` function. \n",
    "\n",
    "Note: since `sorted(longest_links.values())` is returned, your function necessarily returns a list where each URL only appears once."
   ]
  },
  {
   "cell_type": "code",
   "execution_count": 23,
   "metadata": {},
   "outputs": [],
   "source": [
    "# A6:Function(4/4)\n",
    "\n",
    "def filter_longest_links(wiki):\n",
    "    links = get_links(wiki)\n",
    "    longest_links = {}\n",
    "\n",
    "    # Iterate through each link\n",
    "    for link in links:\n",
    "        url = link[2]  # Extract the URL\n",
    "\n",
    "        # Check if the URL is already in the dictionary\n",
    "        if url not in longest_links:\n",
    "            longest_links[url] = link\n",
    "        else:\n",
    "            # Compare the character spans and keep the longer one\n",
    "            existing_link = longest_links[url]\n",
    "            if link[1] - link[0] > existing_link[1] - existing_link[0]:\n",
    "                longest_links[url] = link\n",
    "\n",
    "    return sorted(longest_links.values())\n"
   ]
  },
  {
   "cell_type": "markdown",
   "metadata": {},
   "source": [
    "For reference, your output could be:\n",
    "```\n",
    "[(8, 9, 'http://en.wikipedia.org/wiki/Latin'),\n",
    " (35, 36, 'http://en.wikipedia.org/wiki/Europe'),\n",
    " (83, 83, 'http://en.wikipedia.org/wiki/Washington,_D%2eC%2e'),\n",
    " (102, 104, 'http://en.wikipedia.org/wiki/COVID-19_pandemic'),\n",
    " (135, 141, 'http://en.wikipedia.org/wiki/Wyoming'),\n",
    " (255, 263, 'http://en.wikipedia.org/wiki/Professor'),\n",
    " (255, 282, 'http://en.wikipedia.org/wiki/The_Moon_Is_a_Harsh_Mistress'),\n",
    " (326, 335, 'http://en.wikipedia.org/wiki/Hydroponics'),\n",
    " (337, 341, 'http://en.wikipedia.org/wiki/Wheat'),\n",
    " (355, 357, 'http://en.wikipedia.org/wiki/World_War_I')]\n",
    "```"
   ]
  },
  {
   "cell_type": "code",
   "execution_count": 24,
   "metadata": {},
   "outputs": [
    {
     "data": {
      "text/plain": [
       "[(6, 6, 'http://en.wikipedia.org/wiki/Nantes'),\n",
       " (8, 9, 'http://en.wikipedia.org/wiki/Latin'),\n",
       " (11, 16, 'http://en.wikipedia.org/wiki/Michael_Quatro'),\n",
       " (18, 24, 'http://en.wikipedia.org/wiki/Certiorari'),\n",
       " (27, 33, 'http://en.wikipedia.org/wiki/Attention_(machine_learning)'),\n",
       " (35, 36, 'http://en.wikipedia.org/wiki/Europe'),\n",
       " (53, 59, 'http://en.wikipedia.org/wiki/Freedom_of_assembly'),\n",
       " (61, 64, 'http://en.wikipedia.org/wiki/Two-round_system'),\n",
       " (66, 66, 'http://en.wikipedia.org/wiki/Year'),\n",
       " (68, 73, 'http://en.wikipedia.org/wiki/Camouflage')]"
      ]
     },
     "execution_count": 24,
     "metadata": {},
     "output_type": "execute_result"
    }
   ],
   "source": [
    "# A6:SanityCheck\n",
    "\n",
    "longest_links = filter_longest_links(unknown_wiki)\n",
    "longest_links[:10]"
   ]
  },
  {
   "cell_type": "markdown",
   "metadata": {},
   "source": [
    "__A7.__ _(6 points)_ The responses received from Wikifier are really only _predictions_ of where links should go. This means that multiple link predictions might span overlapping portions of source text. So, we'll have to make sure our code does some light decision making to avoid overlapping hyperlinks and broken html code. \n",
    "\n",
    "Your job now is to complete the `embed_links()` function, which will manage the link embedding process, particularly, the overlapping link problem. Specifically, your function _must_:\n",
    "\n",
    "1. Take a wikifier, `wiki`, response as input.\n",
    "2. Build the document using `build_doc()` and store its output as a string called `doc`\n",
    "3. Apply `get_links()` function, storing the `links` output \n",
    "4. _Reverse_ sort the `link`  by their ending points, i.e., `support[\"chTo\"]` values\n",
    "5. Loop through the _sorted_ `links` \n",
    "6. Conditionally use the `embed_link()` function to embed links into `doc` in the loop. Specifically, only embed a link if its `support[\"chTo\"]` value is less than the previous one's `support[\"chFrom\"]` value, or if the link to embed is the first in the loop.\n",
    "7. `return` the link-enhanced `doc`."
   ]
  },
  {
   "cell_type": "code",
   "execution_count": 25,
   "metadata": {},
   "outputs": [],
   "source": [
    "# A7:Function(6/6)\n",
    "\n",
    "def embed_links(wiki):\n",
    "    ## build the document, gather its links\n",
    "    ## and store only the longest embedding for each (in characters)\n",
    "    doc = build_doc(wiki)\n",
    "    links = get_links(wiki)        \n",
    "    longest_links = filter_longest_links(wiki)\n",
    "    ## sort the links from high to low by their second 'column'\n",
    "    sorted_links = sorted(longest_links, key=lambda x: x[1], reverse=True)\n",
    "\n",
    "    ## you must keep track of the previously-entered link's starting index\n",
    "    prev_from = float(\"Inf\")\n",
    "    \n",
    "    for link in sorted_links:\n",
    "        ## only embed if the current link doesn't overlap 'into'\n",
    "        ## the previously-entered link's starting index\n",
    "        \n",
    "        # Extract information from the link\n",
    "        ch_from, ch_to, hyperlink = link\n",
    "\n",
    "        # Conditionally embed the link into the document\n",
    "        if ch_to < prev_from or not sorted_links.index(link):\n",
    "            doc = embed_link(doc, link)\n",
    "            prev_from = ch_from\n",
    "\n",
    "    return doc"
   ]
  },
  {
   "cell_type": "markdown",
   "metadata": {},
   "source": [
    "For reference, your first paragraph's rendering should come close to the below:"
   ]
  },
  {
   "cell_type": "markdown",
   "metadata": {},
   "source": [
    "Mannie, at Mike's request, attends [an](http://en.wikipedia.org/wiki/Europe) anti-Authority meeting with a hidden recorder[.](http://en.wikipedia.org/wiki/Washington,_D%2eC%2e) When police raid [the](http://en.wikipedia.org/wiki/COVID-19_pandemic) gathering, Mannie flees with [Wyoming](http://en.wikipedia.org/wiki/Wyoming) (\"Wyoh\") Knott, a political agitator, whom he introduces to Mike. They meet Mannie's former mentor, the elderly [](http://en.wikipedia.org/wiki/Professor)[Professor Bernardo de la Paz](</a>http://en.wikipedia.org/wiki/The_Moon_Is_a_Harsh_Mistress), who claims that Luna must stop exporting [hydroponic](http://en.wikipedia.org/wiki/Hydroponics) [grain](http://en.wikipedia.org/wiki/Wheat) to Earth or [its](http://en.wikipedia.org/wiki/World_War_I) ice-mines will soon be exhausted, leaving the Moon waterless. Joining the [cabal](http://en.wikipedia.org/wiki/Cabal), Mike calculates that without prevention, food riots [will occur](http://en.wikipedia.org/wiki/Gulf_War) in seven years and [cannibalism](http://en.wikipedia.org/wiki/Cannibalism) in nine. Wyoh and the Professor decide to start a revolution, and persuade Mannie to join after Mike calculates a one in seven chance of success."
   ]
  },
  {
   "cell_type": "code",
   "execution_count": 26,
   "metadata": {
    "scrolled": true
   },
   "outputs": [
    {
     "data": {
      "text/html": [
       "Mannie<a href=\"http://en.wikipedia.org/wiki/Nantes\"></a>, <a href=\"http://en.wikipedia.org/wiki/Latin\">a</a>t <a href=\"http://en.wikipedia.org/wiki/Michael_Quatro\">Mike'</a>s <a href=\"http://en.wikipedia.org/wiki/Certiorari\">reques</a>t, <a href=\"http://en.wikipedia.org/wiki/Attention_(machine_learning)\">attend</a>s <a href=\"http://en.wikipedia.org/wiki/Europe\">a</a>n anti-Authority <a href=\"http://en.wikipedia.org/wiki/Freedom_of_assembly\">meetin</a>g <a href=\"http://en.wikipedia.org/wiki/Two-round_system\">wit</a>h <a href=\"http://en.wikipedia.org/wiki/Year\"></a>a <a href=\"http://en.wikipedia.org/wiki/Camouflage\">hidde</a>n <a href=\"http://en.wikipedia.org/wiki/Recorder_(musical_instrument)\">recorde</a>r<a href=\"http://en.wikipedia.org/wiki/Washington,_D%2eC%2e\"></a>. <a href=\"http://en.wikipedia.org/wiki/Project_commissioning\">Whe</a>n <a href=\"http://en.wikipedia.org/wiki/Police_raid\">police rai</a>d <a href=\"http://en.wikipedia.org/wiki/Gathering_(LDS_Church)\">the gatherin</a>g, Mannie flees with <a href=\"http://en.wikipedia.org/wiki/Wyoming\">Wyomin</a>g <a href=\"http://en.wikipedia.org/wiki/Legion_of_Honour\"></a>(<a href=\"http://en.wikipedia.org/wiki/Michael_Jackson\"></a>\"Wyoh\"<a href=\"http://en.wikipedia.org/wiki/Macedonia_(Greece)\"></a>) <a href=\"http://en.wikipedia.org/wiki/Knott_County,_Kentucky\">Knot</a>t, a political <a href=\"http://en.wikipedia.org/wiki/Political_demonstration\">agitato</a>r, <a href=\"http://en.wikipedia.org/wiki/Who_(pronoun)\">who</a>m <a href=\"http://en.wikipedia.org/wiki/Hebrew_language\">h</a>e <a href=\"http://en.wikipedia.org/wiki/Bill_(law)\">introduce</a>s to <a href=\"http://en.wikipedia.org/wiki/Ivy_Mike\">Mik</a>e. <a href=\"http://en.wikipedia.org/wiki/Male_prostitution\">The</a>y <a href=\"http://en.wikipedia.org/wiki/Confluence\">mee</a>t Mannie's <a href=\"http://en.wikipedia.org/wiki/Presidency_of_Donald_Trump\">forme</a>r <a href=\"http://en.wikipedia.org/wiki/Mentorship\">mento</a>r, <a href=\"http://en.wikipedia.org/wiki/Old_age\">the elderl</a>y <a href=\"http://en.wikipedia.org/wiki/The_Moon_Is_a_Harsh_Mistress\">Professor Bernardo de la Pa</a>z, <a href=\"http://en.wikipedia.org/wiki/Meaning_of_life\">wh</a>o <a href=\"http://en.wikipedia.org/wiki/Hypothesis\">claim</a>s <a href=\"http://en.wikipedia.org/wiki/Impeachment_of_Andrew_Johnson\">tha</a>t Luna <a href=\"http://en.wikipedia.org/wiki/Continuity_equation\">mus</a>t <a href=\"http://en.wikipedia.org/wiki/Aperture\">sto</a>p <a href=\"http://en.wikipedia.org/wiki/International_trade\">exportin</a>g <a href=\"http://en.wikipedia.org/wiki/Hydroponics\">hydroponi</a>c <a href=\"http://en.wikipedia.org/wiki/Wheat\">grai</a>n to Earth <a href=\"http://en.wikipedia.org/wiki/Eponym\">o</a>r <a href=\"http://en.wikipedia.org/wiki/World_War_I\">it</a>s ice-mines <a href=\"http://en.wikipedia.org/wiki/Free_will\">wil</a>l soon <a href=\"http://en.wikipedia.org/wiki/Ontology\">b</a>e <a href=\"http://en.wikipedia.org/wiki/Fatigue\">exhauste</a>d, leaving the Moon <a href=\"http://en.wikipedia.org/wiki/Dry_toilet\">waterles</a>s. <a href=\"http://en.wikipedia.org/wiki/Join\">Joinin</a>g the <a href=\"http://en.wikipedia.org/wiki/Cabal\">caba</a>l, Mike calculates that <a href=\"http://en.wikipedia.org/wiki/Independent_politician\">withou</a>t <a href=\"http://en.wikipedia.org/wiki/Cancer\">preventio</a>n, <a href=\"http://en.wikipedia.org/wiki/Food_riot\">food riot</a>s <a href=\"http://en.wikipedia.org/wiki/Gulf_War\">will occu</a>r <a href=\"http://en.wikipedia.org/wiki/2003_Washington_Huskies_football_team\">in seven year</a>s <a href=\"http://en.wikipedia.org/wiki/Gleichschaltung\">an</a>d <a href=\"http://en.wikipedia.org/wiki/Cannibalism\">cannibalis</a>m in <a href=\"http://en.wikipedia.org/wiki/Territories_of_the_United_States\">nin</a>e. Wyoh and <a href=\"http://en.wikipedia.org/wiki/The_Professor_(Gilligan%27s_Island)\">the Professo</a>r <a href=\"http://en.wikipedia.org/wiki/Decidability_(logic)\">decid</a>e to <a href=\"http://en.wikipedia.org/wiki/Invasion_of_Poland\">star</a>t <a href=\"http://en.wikipedia.org/wiki/Mexican_Revolution\">a revolutio</a>n, and <a href=\"http://en.wikipedia.org/wiki/Coercion\">persuad</a>e Mannie to <a href=\"http://en.wikipedia.org/wiki/Enlargement_of_NATO\">joi</a>n <a href=\"http://en.wikipedia.org/wiki/Afterlife\">afte</a>r Mike calculates a <a href=\"http://en.wikipedia.org/wiki/1967_Oak_Lawn_tornado_outbreak\">one i</a>n seven <a href=\"http://en.wikipedia.org/wiki/Probability\">chanc</a>e <a href=\"http://en.wikipedia.org/wiki/Jin_dynasty_(266%e2%80%93420)\">o</a>f <a href=\"http://en.wikipedia.org/wiki/Social_status\">succes</a>s.<br><br>Mannie, Wyoh, and the Professor <a href=\"http://en.wikipedia.org/wiki/Trade_union\">organiz</a>e <a href=\"http://en.wikipedia.org/wiki/Clandestine_cell_system\">covert cell</a>s <a href=\"http://en.wikipedia.org/wiki/Protectorate\">protecte</a>d <a href=\"http://en.wikipedia.org/wiki/Boron\">b</a>y Mike, who <a href=\"http://en.wikipedia.org/wiki/Nuclear_reactor\">control</a>s the <a href=\"http://en.wikipedia.org/wiki/Telephone_exchange\">telephone syste</a>m and <a href=\"http://en.wikipedia.org/wiki/Bribery\">present</a>s <a href=\"http://en.wikipedia.org/wiki/Suicide\">himsel</a>f <a href=\"http://en.wikipedia.org/wiki/Colombia\">a</a>s \"<a href=\"http://en.wikipedia.org/wiki/Adam\">Ada</a>m <a href=\"http://en.wikipedia.org/wiki/Selene\">Selen</a>e\", <a href=\"http://en.wikipedia.org/wiki/Leadership\">leade</a>r <a href=\"http://en.wikipedia.org/wiki/KABC-TV\">of th</a>e <a href=\"http://en.wikipedia.org/wiki/Political_movement\">movement</a>. Mannie <a href=\"http://en.wikipedia.org/wiki/Save_(baseball)\">save</a>s the <a href=\"http://en.wikipedia.org/wiki/Hagiography\">life o</a>f <a href=\"http://en.wikipedia.org/wiki/House_of_Stuart\">Stuar</a>t <a href=\"http://en.wikipedia.org/wiki/France-Albert_Ren%c3%a9\">Ren</a>e <a href=\"http://en.wikipedia.org/wiki/Lajoie\">LaJoi</a>e, a <a href=\"http://en.wikipedia.org/wiki/Slum\">slummin</a>g <a href=\"http://en.wikipedia.org/wiki/Upper_class\">high-societ</a>y <a href=\"http://en.wikipedia.org/wiki/Tourism\">touris</a>t, who is <a href=\"http://en.wikipedia.org/wiki/NBA_G_League\">assigne</a>d to <a href=\"http://en.wikipedia.org/wiki/Shapeshifting\">tur</a>n <a href=\"http://en.wikipedia.org/wiki/Public_opinion\">public opinio</a>n <a href=\"http://en.wikipedia.org/wiki/Atmosphere_of_Earth\">on Eart</a>h <a href=\"http://en.wikipedia.org/wiki/Bias\">in favo</a>r of Lunar <a href=\"http://en.wikipedia.org/wiki/Independence\">independenc</a>e. <a href=\"http://en.wikipedia.org/wiki/Diyarbak%c4%b1r\">Ami</a>d <a href=\"http://en.wikipedia.org/wiki/Sexual_intercourse\">mountin</a>g <a href=\"http://en.wikipedia.org/wiki/George_Floyd_protests\">unres</a>t <a href=\"http://en.wikipedia.org/wiki/Heating_pad\">fomente</a>d by <a href=\"http://en.wikipedia.org/wiki/Iranian_Revolution\">the revolutionarie</a>s, Earth <a href=\"http://en.wikipedia.org/wiki/Military\">soldier</a>s <a href=\"http://en.wikipedia.org/wiki/Hectare\">ar</a>e <a href=\"http://en.wikipedia.org/wiki/Atlantic_slave_trade\">brough</a>t <a href=\"http://en.wikipedia.org/wiki/Inch\">in</a>. <a href=\"http://en.wikipedia.org/wiki/The_New_York_Times\">Th</a>e <a href=\"http://en.wikipedia.org/wiki/Military_discipline\">undiscipline</a>d troops <a href=\"http://en.wikipedia.org/wiki/Capital_punishment\">kil</a>l <a href=\"http://en.wikipedia.org/wiki/Canada\">som</a>e <a href=\"http://en.wikipedia.org/wiki/Local_government\">loca</a>l <a href=\"http://en.wikipedia.org/wiki/Female\">young wome</a>n, who occupy a quasi-Victorian <a href=\"http://en.wikipedia.org/wiki/Phylogenetic_tree\">positio</a>n <a href=\"http://en.wikipedia.org/wiki/Sexual_violence_in_the_Tigray_War\">in th</a>e female-starved <a href=\"http://en.wikipedia.org/wiki/Lunar_Society_of_Birmingham\">Lunar societ</a>y, and <a href=\"http://en.wikipedia.org/wiki/Riot\">riotin</a>g <a href=\"http://en.wikipedia.org/wiki/1980_eruption_of_Mount_St%2e_Helens\">erupt</a>s. Although it pre-empts <a href=\"http://en.wikipedia.org/wiki/Non-binary_gender\">thei</a>r <a href=\"http://en.wikipedia.org/wiki/Urban_planning\">plan</a>s, the Loonies and Mike <a href=\"http://en.wikipedia.org/wiki/Second_Italo-Ethiopian_War\">overcom</a>e <a href=\"http://en.wikipedia.org/wiki/Eighth_Route_Army\">the soldier</a>s and <a href=\"http://en.wikipedia.org/wiki/Adolf_Hitler%27s_rise_to_power\">seize powe</a>r from the <a href=\"http://en.wikipedia.org/wiki/Warden_(college)\">Warde</a>n<a href=\"http://en.wikipedia.org/wiki/%2eas\">. A</a>s Earth <a href=\"http://en.wikipedia.org/wiki/Motion\">move</a>s <a href=\"http://en.wikipedia.org/wiki/Guiyi_Circuit\">to reclai</a>m <a href=\"http://en.wikipedia.org/wiki/New_Zealand\">the colon</a>y, the revolutionaries plan to <a href=\"http://en.wikipedia.org/wiki/Plant_defense_against_herbivory\">defend themselve</a>s with the <a href=\"http://en.wikipedia.org/wiki/Electromagnetic_catapult\">electromagnetic catapul</a>t <a href=\"http://en.wikipedia.org/wiki/French_wine\">used t</a>o export wheat. <br><br>Mike <a href=\"http://en.wikipedia.org/wiki/Impersonator\">impersonate</a>s the Warden in <a href=\"http://en.wikipedia.org/wiki/Propaganda\">message</a>s to Earth, to <a href=\"http://en.wikipedia.org/wiki/Gift\">giv</a>e the revolutionaries time <a href=\"http://en.wikipedia.org/wiki/Freedom_of_Association_and_Protection_of_the_Right_to_Organise_Convention\">to organiz</a>e <a href=\"http://en.wikipedia.org/wiki/African-American_art\">their wor</a>k. <a href=\"http://en.wikipedia.org/wiki/Meanwhile_(Futurama)\">Meanwhil</a>e, the Professor <a href=\"http://en.wikipedia.org/wiki/Global_spread_of_the_printing_press\">sets u</a>p an \"Ad-Hoc <a href=\"http://en.wikipedia.org/wiki/United_States_Congress\">Congress</a>\" to <a href=\"http://en.wikipedia.org/wiki/False_consciousness\">distrac</a>t <a href=\"http://en.wikipedia.org/wiki/Anti-communism\">dissenter</a>s. When Earth <a href=\"http://en.wikipedia.org/wiki/De_jure\">finall</a>y <a href=\"http://en.wikipedia.org/wiki/Learning\">learn</a>s <a href=\"http://en.wikipedia.org/wiki/Final_Solution\">the trut</a>h, Luna <a href=\"http://en.wikipedia.org/wiki/Treaty_of_Manila_(1946)\">declares its independenc</a>e on <a href=\"http://en.wikipedia.org/wiki/Independence_Day_(United_States)\">July </a>4, <a href=\"http://en.wikipedia.org/wiki/3rd_millennium\">207</a>6, the <a href=\"http://en.wikipedia.org/wiki/Metropolitan_statistical_area\">300t</a>h <a href=\"http://en.wikipedia.org/wiki/Party_Foundation_Day\">anniversary o</a>f the <a href=\"http://en.wikipedia.org/wiki/United_States_Declaration_of_Independence\">US Declaration of Independenc</a>e, and <a href=\"http://en.wikipedia.org/wiki/The_Blitz\">heavil</a>y <a href=\"http://en.wikipedia.org/wiki/Baseball\">base</a>s <a href=\"http://en.wikipedia.org/wiki/Monotypic_taxon\">its ow</a>n <a href=\"http://en.wikipedia.org/wiki/Declaration_of_war\">declaratio</a>n <a href=\"http://en.wikipedia.org/wiki/Eritrean_War_of_Independence\">of independenc</a>e on <a href=\"http://en.wikipedia.org/wiki/Italian_language\">it</a>.<br><br>Mannie and the Professor <a href=\"http://en.wikipedia.org/wiki/Goto\">go t</a>o Earth (despite the <a href=\"http://en.wikipedia.org/wiki/Warsaw_Pact_invasion_of_Czechoslovakia\">crushin</a>g gravity) to plead Luna's <a href=\"http://en.wikipedia.org/wiki/Case_law\">cas</a>e, <a href=\"http://en.wikipedia.org/wiki/Geography\">wher</a>e <a href=\"http://en.wikipedia.org/wiki/Singular_they\">the</a>y are <a href=\"http://en.wikipedia.org/wiki/Tradition\">receive</a>d in the <a href=\"http://en.wikipedia.org/wiki/Federal_republic\">Federate</a>d <a href=\"http://en.wikipedia.org/wiki/Nation\">Nation</a>s<a href=\"http://en.wikipedia.org/wiki/Foot_(unit)\"></a>' <a href=\"http://en.wikipedia.org/wiki/Headquarters\">headquarter</a>s <a href=\"http://en.wikipedia.org/wiki/Agra\">in Agr</a>a, and <a href=\"http://en.wikipedia.org/wiki/Embarkation\">embar</a>k on <a href=\"http://en.wikipedia.org/wiki/Happier_Than_Ever,_The_World_Tour\">a world tou</a>r <a href=\"http://en.wikipedia.org/wiki/Advocacy_group\">advocatin</a>g the <a href=\"http://en.wikipedia.org/wiki/High,_middle_and_low_justice\">right t</a>o Lunar <a href=\"http://en.wikipedia.org/wiki/Self-governance\">self-governmen</a>t, <a href=\"http://en.wikipedia.org/wiki/While_loop\">whil</a>e urging Earth's <a href=\"http://en.wikipedia.org/wiki/Sovereign_state\">national government</a>s <a href=\"http://en.wikipedia.org/wiki/Close_Encounters_of_the_Third_Kind\">to buil</a>d a catapult to <a href=\"http://en.wikipedia.org/wiki/Population_transfer\">transfe</a>r <a href=\"http://en.wikipedia.org/wiki/Water\">wate</a>r to Luna <a href=\"http://en.wikipedia.org/wiki/Quid_pro_quo\">in exchange fo</a>r wheat<a href=\"http://en.wikipedia.org/wiki/%2ein\">. I</a>n a <a href=\"http://en.wikipedia.org/wiki/Public_relations\">public relation</a>s <a href=\"http://en.wikipedia.org/wiki/Ploy_(musical_instrument)\">plo</a>y, Mannie provokes a <a href=\"http://en.wikipedia.org/wiki/Letter_(message)\">brie</a>f <a href=\"http://en.wikipedia.org/wiki/Prisoner_of_war\">imprisonmen</a>t by local religious <a href=\"http://en.wikipedia.org/wiki/Discrimination\">bigot</a>s on <a href=\"http://en.wikipedia.org/wiki/Indictment\">charge</a>s of public <a href=\"http://en.wikipedia.org/wiki/Morality\">immoralit</a>y and <a href=\"http://en.wikipedia.org/wiki/Polygamy\">polygam</a>y, <a href=\"http://en.wikipedia.org/wiki/Harvest\">reapin</a>g <a href=\"http://en.wikipedia.org/wiki/Epidemic\">widesprea</a>d <a href=\"http://en.wikipedia.org/wiki/Sympathy\">sympath</a>y. <a href=\"http://en.wikipedia.org/wiki/Nevertheless_(TV_series)\">Nevertheless</a>, the Federated Nations <a href=\"http://en.wikipedia.org/wiki/Historical_revisionism\">rejec</a>t <a href=\"http://en.wikipedia.org/wiki/1913_Australian_referendum\">the proposal</a>s, and the <a href=\"http://en.wikipedia.org/wiki/Diplomatic_mission\">diplomatic missio</a>n returns to <a href=\"http://en.wikipedia.org/wiki/Luna_(1990s_American_band)\">Luna</a>.<br><br>Public opinion on Earth <a href=\"http://en.wikipedia.org/wiki/Regeneration_(Doctor_Who)\">has becom</a>e <a href=\"http://en.wikipedia.org/wiki/Liberal_democracy\">fragmente</a>d, while on Luna, the <a href=\"http://en.wikipedia.org/wiki/ABC_News\">new</a>s of Mannie's <a href=\"http://en.wikipedia.org/wiki/Arrest\">arres</a>t and <a href=\"http://en.wikipedia.org/wiki/Philippines_campaign_(1944%e2%80%931945)\">an attemp</a>t to bribe <a href=\"http://en.wikipedia.org/wiki/Saddam_Hussein\">hi</a>m by <a href=\"http://en.wikipedia.org/wiki/Shipbuilding\">makin</a>g him <a href=\"http://en.wikipedia.org/wiki/Madison_Square_Garden\">the ne</a>w Warden <a href=\"http://en.wikipedia.org/wiki/Mammal\">hav</a>e <a href=\"http://en.wikipedia.org/wiki/Globalization\">unifie</a>d the <a href=\"http://en.wikipedia.org/wiki/Normal_distribution\">normall</a>y <a href=\"http://en.wikipedia.org/wiki/Politics\">apolitica</a>l Loonies. <a href=\"http://en.wikipedia.org/wiki/2019_United_Kingdom_general_election\">An electio</a>n is <a href=\"http://en.wikipedia.org/wiki/Political_prisoner\">hel</a>d in <a href=\"http://en.wikipedia.org/wiki/Coimbatore\">whic</a>h Mannie, Wyoh, and the Professor are elected (<a href=\"http://en.wikipedia.org/wiki/Xiongnu\">possibl</a>y by <a href=\"http://en.wikipedia.org/wiki/Saudi-led_intervention_in_Bahrain\">the interventio</a>n of Mike).<br><br>The Federated Nations of Earth <a href=\"http://en.wikipedia.org/wiki/Saudi_Arabia_at_the_2010_Summer_Youth_Olympics\">sen</a>d an <a href=\"http://en.wikipedia.org/wiki/Infantry\">infantr</a>y force to destroy the Lunar revolution, <a href=\"http://en.wikipedia.org/wiki/Conjunction_(grammar)\">bu</a>t <a href=\"http://en.wikipedia.org/wiki/United_States_Armed_Forces\">the troop</a>s, with <a href=\"http://en.wikipedia.org/wiki/Abbot\">superio</a>r <a href=\"http://en.wikipedia.org/wiki/Weapon\">arm</a>s but inexperienced in <a href=\"http://en.wikipedia.org/wiki/Gravity\">low-gravit</a>y <a href=\"http://en.wikipedia.org/wiki/Black_market\">undergroun</a>d <a href=\"http://en.wikipedia.org/wiki/Fighter_aircraft\">comba</a>t, are <a href=\"http://en.wikipedia.org/wiki/1988_United_States_Senate_election_in_Montana\">defeated b</a>y the Loonies <a href=\"http://en.wikipedia.org/wiki/Pyrrhic_victory\">at great cos</a>t. The <a href=\"http://en.wikipedia.org/wiki/Rumor\">rumo</a>r is <a href=\"http://en.wikipedia.org/wiki/Doxing\">circulate</a>d that Mike's <a href=\"http://en.wikipedia.org/wiki/Alter_ego\">alter eg</a>o Adam Selene <a href=\"http://en.wikipedia.org/wiki/Republic_of_China_(1912%e2%80%931949)\">wa</a>s among <a href=\"http://en.wikipedia.org/wiki/Death\">the dea</a>d, <a href=\"http://en.wikipedia.org/wiki/Censorship\">removin</a>g the <a href=\"http://en.wikipedia.org/wiki/Demand\">nee</a>d for him <a href=\"http://en.wikipedia.org/wiki/Donor_portrait\">to appea</a>r <a href=\"http://en.wikipedia.org/wiki/Real_life\">in perso</a>n.<br><br>Earth <a href=\"http://en.wikipedia.org/wiki/Wine\">stil</a>l <a href=\"http://en.wikipedia.org/wiki/Belarus%e2%80%93Lithuania_relations\">refuses to recogniz</a>e Lunar independence, and the revolutionaries deploy their catapult <a href=\"http://en.wikipedia.org/wiki/Nuclear_weapon\">weapo</a>n. When Mike <a href=\"http://en.wikipedia.org/wiki/Kinetic_bombardment\">launches rock</a>s at <a href=\"http://en.wikipedia.org/wiki/Population_density\">sparsely populate</a>d <a href=\"http://en.wikipedia.org/wiki/Franchising\">location</a>s on Earth, <a href=\"http://en.wikipedia.org/wiki/Miranda_warning\">warning</a>s are <a href=\"http://en.wikipedia.org/wiki/United_States_diplomatic_cables_leak\">release</a>d <a href=\"http://en.wikipedia.org/wiki/Member_states_of_the_United_Nations\">to th</a>e <a href=\"http://en.wikipedia.org/wiki/Mass_media\">pres</a>s <a href=\"http://en.wikipedia.org/wiki/Ornament_(art)\">detailin</a>g <a href=\"http://en.wikipedia.org/wiki/Great_Depression\">the time</a>s and locations of <a href=\"http://en.wikipedia.org/wiki/Atomic_bombings_of_Hiroshima_and_Nagasaki\">the bombing</a>s, which <a href=\"http://en.wikipedia.org/wiki/Childbirth\">delive</a>r <a href=\"http://en.wikipedia.org/wiki/Kinetic_energy\">kinetic energ</a>y <a href=\"http://en.wikipedia.org/wiki/Purchasing_power\">equivalent t</a>o atomic <a href=\"http://en.wikipedia.org/wiki/Explosion\">blast</a>s. <a href=\"http://en.wikipedia.org/wiki/Battle_of_Grand_Port\">Som</a>e scoffers, <a href=\"http://en.wikipedia.org/wiki/Standardization\">as well a</a>s <a href=\"http://en.wikipedia.org/wiki/Apocalypse\">apocalypti</a>c <a href=\"http://en.wikipedia.org/wiki/Religion\">religious group</a>s, <a href=\"http://en.wikipedia.org/wiki/Denmark%e2%80%93Germany_border\">travel t</a>o the <a href=\"http://en.wikipedia.org/wiki/Archaeology\">site</a>s and die, <a href=\"http://en.wikipedia.org/wiki/Turbulence\">turnin</a>g public opinion <a href=\"http://en.wikipedia.org/wiki/Opposition_to_United_States_involvement_in_the_Vietnam_War\">against th</a>e <a href=\"http://en.wikipedia.org/wiki/Fledge\">fledglin</a>g nation. For Mike, <a href=\"http://en.wikipedia.org/wiki/Determinism\">guidin</a>g <a href=\"http://en.wikipedia.org/wiki/Dozens_(game)\">dozen</a>s of <a href=\"http://en.wikipedia.org/wiki/Hermaphrodite\">simultaneou</a>s <a href=\"http://en.wikipedia.org/wiki/Projectile\">projectil</a>e <a href=\"http://en.wikipedia.org/wiki/Strike_action\">strike</a>s <a href=\"http://en.wikipedia.org/wiki/Complementarianism\">require</a>s an <a href=\"http://en.wikipedia.org/wiki/Joshua_Key_(soldier)\">unprecedente</a>d <a href=\"http://en.wikipedia.org/wiki/Computer\">computationa</a>l <a href=\"http://en.wikipedia.org/wiki/Guest_appearance\">fea</a>t, and <a href=\"http://en.wikipedia.org/wiki/Cuius_regio,_eius_religio\">whe</a>n the pinpoints <a href=\"http://en.wikipedia.org/wiki/Light\">ligh</a>t up on <a href=\"http://en.wikipedia.org/wiki/Earth\">the Eart</a>h <a href=\"http://en.wikipedia.org/wiki/Radiocarbon_dating\">belo</a>w, he <a href=\"http://en.wikipedia.org/wiki/Tell_(archaeology)\">tell</a>s Mannie it is an <a href=\"http://en.wikipedia.org/wiki/Orgasm\">orgasmi</a>c <a href=\"http://en.wikipedia.org/wiki/Empirical_evidence\">experienc</a>e.<br><br>Earth <a href=\"http://en.wikipedia.org/wiki/Angkasawan_program\">send</a>s a <a href=\"http://en.wikipedia.org/wiki/Mass_production\">massiv</a>e <a href=\"http://en.wikipedia.org/wiki/Ambush\">sneak attac</a>k to <a href=\"http://en.wikipedia.org/wiki/Peaceful_Revolution\">put an en</a>d to <a href=\"http://en.wikipedia.org/wiki/American_Revolutionary_War\">the rebellio</a>n, <a href=\"http://en.wikipedia.org/wiki/Swatting\">sendin</a>g <a href=\"http://en.wikipedia.org/wiki/Spacecraft\">ship</a>s in a <a href=\"http://en.wikipedia.org/wiki/Obesity\">wid</a>e <a href=\"http://en.wikipedia.org/wiki/Orbit\">orbi</a>t <a href=\"http://en.wikipedia.org/wiki/Flirting\">approachin</a>g from <a href=\"http://en.wikipedia.org/wiki/Far_side_of_the_Moon\">the Moon's far sid</a>e. <a href=\"http://en.wikipedia.org/wiki/1986_United_States_bombing_of_Libya\">The attac</a>k <a href=\"http://en.wikipedia.org/wiki/Military_occupation\">occupie</a>s <a href=\"http://en.wikipedia.org/wiki/Al_Anbar_Governorate\">the citie</a>s, <a href=\"http://en.wikipedia.org/wiki/Space_Shuttle_Challenger_disaster\">destroy</a>s Mike's <a href=\"http://en.wikipedia.org/wiki/Star_Trek%3a_The_Original_Series\">origina</a>l catapult, and <a href=\"http://en.wikipedia.org/wiki/Ingestion\">take</a>s him <a href=\"http://en.wikipedia.org/wiki/Single-player_video_game\">offlin</a>e, but the Loonies have built a <a href=\"http://en.wikipedia.org/wiki/Health_care\">secondar</a>y, hidden catapult. <a href=\"http://en.wikipedia.org/wiki/With_(EP)\">Wit</a>h Mannie <a href=\"http://en.wikipedia.org/wiki/Theatre\">actin</a>g as its <a href=\"http://en.wikipedia.org/wiki/Distributed_generation\">on-sit</a>e <a href=\"http://en.wikipedia.org/wiki/Commander-in-chief\">commande</a>r and doing <a href=\"http://en.wikipedia.org/wiki/Computation\">computation</a>s <a href=\"http://en.wikipedia.org/wiki/Handicraft\">by han</a>d, the Loonies <a href=\"http://en.wikipedia.org/wiki/Fraternities_and_sororities\">continu</a>e <a href=\"http://en.wikipedia.org/wiki/Allied_naval_bombardments_of_Japan_during_World_War_II\">to bombar</a>d the dismayed <a href=\"http://en.wikipedia.org/wiki/World_government\">Earth governmen</a>t <a href=\"http://en.wikipedia.org/wiki/Treaty_of_San_Francisco\">unti</a>l it concedes Luna's independence. Professor Bernardo de la Paz, <a href=\"http://en.wikipedia.org/wiki/2008_Progressive_Conservative_Party_of_New_Brunswick_leadership_election\">as leade</a>r of <a href=\"http://en.wikipedia.org/wiki/United_States\">the natio</a>n, <a href=\"http://en.wikipedia.org/wiki/Presidential_proclamation_(United_States)\">proclaim</a>s <a href=\"http://en.wikipedia.org/wiki/Surrender_of_Japan\">victor</a>y to the gathered <a href=\"http://en.wikipedia.org/wiki/Crowd_psychology\">crowd</a>s, but <a href=\"http://en.wikipedia.org/wiki/Pedro_I%27s_heart\">his hear</a>t <a href=\"http://en.wikipedia.org/wiki/Cylinder\">give</a>s <a href=\"http://en.wikipedia.org/wiki/Transgender\">ou</a>t and he <a href=\"http://en.wikipedia.org/wiki/Die_(manufacturing)\">dies</a>. Mannie <a href=\"http://en.wikipedia.org/wiki/Battle_of_Dachen_Archipelago\">takes contro</a>l, but Wyoh and he <a href=\"http://en.wikipedia.org/wiki/Sleeper_hit\">eventuall</a>y <a href=\"http://en.wikipedia.org/wiki/Brexit\">withdra</a>w from politics <a href=\"http://en.wikipedia.org/wiki/Nudity\">altogethe</a>r, and <a href=\"http://en.wikipedia.org/wiki/Geometric_Brownian_motion\">find tha</a>t <a href=\"http://en.wikipedia.org/wiki/Bolsheviks\">the new governmen</a>t falls <a href=\"http://en.wikipedia.org/wiki/Short_story\">shor</a>t of their <a href=\"http://en.wikipedia.org/wiki/Utopia\">utopia</a>n <a href=\"http://en.wikipedia.org/wiki/Expected_value\">expectation</a>s, <a href=\"http://en.wikipedia.org/wiki/Fall_of_Constantinople\">fallin</a>g <a href=\"http://en.wikipedia.org/wiki/Enabling_Act_of_1933\">into </a>a <a href=\"http://en.wikipedia.org/wiki/Praxis_(process)\">mundan</a>e <a href=\"http://en.wikipedia.org/wiki/Political_parties_in_the_United_States\">political party syste</a>m.<br><br>When Mannie <a href=\"http://en.wikipedia.org/wiki/Suicide_attempt\">tries t</a>o <a href=\"http://en.wikipedia.org/wiki/Speech\">spea</a>k to Mike, he finds that the computer, <a href=\"http://en.wikipedia.org/wiki/Rolling_blackout\">disconnecte</a>d by <a href=\"http://en.wikipedia.org/wiki/Bombardment_of_Brussels\">the bombardmen</a>t, has <a href=\"http://en.wikipedia.org/wiki/Shipwreck\">los</a>t its <a href=\"http://en.wikipedia.org/wiki/Self-awareness\">self-awarenes</a>s and <a href=\"http://en.wikipedia.org/wiki/Anthropomorphism\">human-lik</a>e <a href=\"http://en.wikipedia.org/wiki/Memory\">memorie</a>s after repair, although <a href=\"http://en.wikipedia.org/wiki/Christianity\">otherwis</a>e <a href=\"http://en.wikipedia.org/wiki/Function_(mathematics)\">functiona</a>l. Mike <a href=\"http://en.wikipedia.org/wiki/Slavery\">gav</a>e <a href=\"http://en.wikipedia.org/wiki/Rajiv_Gandhi\">his lif</a>e <a href=\"http://en.wikipedia.org/wiki/Drop_It_Like_It%27s_Hot\">for hi</a>s <a href=\"http://en.wikipedia.org/wiki/Country_music\">country</a>. <a href=\"http://en.wikipedia.org/wiki/Mourning\">Mournin</a>g <a href=\"http://en.wikipedia.org/wiki/Adam_Kuckhoff\">his frien</a>d, Mannie <a href=\"http://en.wikipedia.org/wiki/Wallflower_(Fringe)\">ask</a>s<a href=\"http://en.wikipedia.org/wiki/Colon_(punctuation)\"></a>: \"<a href=\"http://en.wikipedia.org/wiki/God\">Bo</a>g, <a href=\"http://en.wikipedia.org/wiki/Is-a\">is </a>a computer <a href=\"http://en.wikipedia.org/wiki/Hindu%e2%80%93German_Conspiracy\">one o</a>f <a href=\"http://en.wikipedia.org/wiki/You\">You</a>r <a href=\"http://en.wikipedia.org/wiki/Organism\">creature</a>s?\""
      ],
      "text/plain": [
       "<IPython.core.display.HTML object>"
      ]
     },
     "execution_count": 26,
     "metadata": {},
     "output_type": "execute_result"
    }
   ],
   "source": [
    "# A7:SanityCheck\n",
    "\n",
    "from IPython.core.display import HTML\n",
    "\n",
    "annotated_doc = embed_links(unknown_wiki)\n",
    "annotated_doc = re.sub(\"\\n\", \"<br>\", annotated_doc)\n",
    "HTML(annotated_doc)"
   ]
  },
  {
   "cell_type": "markdown",
   "metadata": {},
   "source": [
    "__A8.__ _(5 pts)_ It's time to package your code up so someone else can use it! Specifically, your goal here will be to place _all of the functions_ that you defined within this module into a file called `./wikifier.py`; doing so will technically create our very own _Python module_. When this is complete, you'll be able to operate your code's function by loading the module, i.e., `import wikifier`, and executing the two controller methods:\n",
    "\n",
    "- `wikification = wikifier.get_wikification(\"example_text.txt\", USER_KEY)`\n",
    "- `annotated_doc = wikifier.embed_links(wikification)`\n",
    "\n",
    "Note: Your `./wikifier.py` Python module must also contain any necessary module loads, and since it is being distributed for _others_ to use it absolutely must use relative file paths, assuming the `./data/` location for application data. \n",
    "\n",
    "Importantly, to write the contents of a cell to a file, your job is to utilize the `inspect` module, whose `inspect.getsource()` method may be applied to a function to get its source as a  string. Once as strings, you must concatenate the functions together&mdash;onto the module loads&mdash;while being sure to separate each function by two newlines (`\"\\n\\n\"`), for clarity. Note: for convenience, all of your functions are maintained in the `all_function` list object below."
   ]
  },
  {
   "cell_type": "code",
   "execution_count": 30,
   "metadata": {},
   "outputs": [
    {
     "name": "stdout",
     "output_type": "stream",
     "text": [
      "import os, re, json, requests\n",
      "\n",
      "def get_wikifier_response(text, KEY, threshold=0.8, language='en'):\n",
      "    url = f\"http://www.wikifier.org/annotate-articl\n"
     ]
    }
   ],
   "source": [
    "# A8:Inline(5/5)\n",
    "\n",
    "import inspect\n",
    "import os, re, json, requests\n",
    "\n",
    "def get_wikifier_response(text, KEY, threshold=0.8, language='en'):\n",
    "    url = f\"http://www.wikifier.org/annotate-article?text={text}&lang={language}&userKey={KEY}&pageRankSqThreshold={threshold}\"\n",
    "    response = requests.get(url)\n",
    "    return response.json()\n",
    "\n",
    "def get_wikification(text_file_path, KEY):\n",
    "    json_file_path = re.sub(r'\\.txt$', '_wikifier_response.json', text_file_path)\n",
    "\n",
    "    if os.path.exists(json_file_path):\n",
    "        with open(json_file_path, 'r', encoding='utf-8') as cached_file:\n",
    "            return json.load(cached_file)\n",
    "    else:\n",
    "        with open(text_file_path, 'r', encoding='utf-8') as text_file:\n",
    "            text = text_file.read()\n",
    "        wikifier_response = get_wikifier_response(text, KEY)\n",
    "        with open(json_file_path, 'w', encoding='utf-8') as cached_file:\n",
    "            json.dump(wikifier_response, cached_file, ensure_ascii=False, indent=2)\n",
    "        return wikifier_response\n",
    "\n",
    "def build_doc(wiki):\n",
    "    words = wiki['words']\n",
    "    spaces = wiki['spaces']\n",
    "    document = \"\"\n",
    "    \n",
    "    # Ensure the lengths of spaces and words are the same\n",
    "    min_len = min(len(spaces), len(words))\n",
    "    \n",
    "    for i in range(min_len):\n",
    "        document += spaces[i] + words[i]\n",
    "\n",
    "    # Add the remaining words if any\n",
    "    document += \"\".join(words[min_len:])\n",
    "\n",
    "    return document\n",
    "\n",
    "def get_links(wiki):\n",
    "    links = []\n",
    "    for annotation in wiki['annotations']:\n",
    "        for support in annotation['support']:\n",
    "            ch_from = support['chFrom']\n",
    "            ch_to = support['chTo']\n",
    "            hyperlink = annotation['url']\n",
    "            links.append((ch_from, ch_to, hyperlink))\n",
    "    return links\n",
    "\n",
    "def embed_link(doc, link):\n",
    "    ch_from, ch_to, hyperlink = link\n",
    "    embedded_doc = doc[:ch_from] + f'<a href=\"{hyperlink}\">' + doc[ch_from:ch_to] + '</a>' + doc[ch_to:]\n",
    "    return embedded_doc\n",
    "\n",
    "def filter_longest_links(wiki):\n",
    "    links = get_links(wiki)\n",
    "    longest_links = {}\n",
    "    for link in links:\n",
    "        url = link[2]\n",
    "        if url not in longest_links:\n",
    "            longest_links[url] = link\n",
    "        else:\n",
    "            existing_link = longest_links[url]\n",
    "            if link[1] - link[0] > existing_link[1] - existing_link[0]:\n",
    "                longest_links[url] = link\n",
    "    return sorted(longest_links.values())\n",
    "\n",
    "def embed_links(wiki):\n",
    "    doc = build_doc(wiki)\n",
    "    links = get_links(wiki)\n",
    "    longest_links = filter_longest_links(wiki)\n",
    "    sorted_links = sorted(longest_links, key=lambda x: x[1], reverse=True)\n",
    "    prev_from = float(\"Inf\")\n",
    "    for link in sorted_links:\n",
    "        ch_from, ch_to, hyperlink = link\n",
    "        if ch_to < prev_from or not sorted_links.index(link):\n",
    "            doc = embed_link(doc, link)\n",
    "            prev_from = ch_from\n",
    "    return doc\n",
    "\n",
    "#---your code starts here---\n",
    "all_functions = [get_wikifier_response, get_wikification, build_doc, \n",
    "                 get_links, embed_link, filter_longest_links, embed_links]\n",
    "\n",
    "module_script = \"import os, re, json, requests\\n\\n\"\n",
    "for function in all_functions:\n",
    "    module_script += inspect.getsource(function) + \"\\n\\n\"\n",
    "\n",
    "with open('wikifier.py', 'w') as f:\n",
    "    f.write(module_script)\n",
    "#---your code stops here---\n",
    "\n",
    "print(module_script[:150])\n"
   ]
  },
  {
   "cell_type": "markdown",
   "metadata": {},
   "source": [
    "For reference, your output from the above should be identical to the text of the functions you've authored. Likewise, the below `SanityCheck` should produce the exact same output as __A7.__ Also, don't forget&mdash;TANSTAAFL!"
   ]
  },
  {
   "cell_type": "code",
   "execution_count": 31,
   "metadata": {
    "scrolled": true
   },
   "outputs": [
    {
     "data": {
      "text/html": [
       "Mannie<a href=\"http://en.wikipedia.org/wiki/Nantes\"></a>, <a href=\"http://en.wikipedia.org/wiki/Latin\">a</a>t <a href=\"http://en.wikipedia.org/wiki/Michael_Quatro\">Mike'</a>s <a href=\"http://en.wikipedia.org/wiki/Certiorari\">reques</a>t, <a href=\"http://en.wikipedia.org/wiki/Attention_(machine_learning)\">attend</a>s <a href=\"http://en.wikipedia.org/wiki/Europe\">a</a>n anti-Authority <a href=\"http://en.wikipedia.org/wiki/Freedom_of_assembly\">meetin</a>g <a href=\"http://en.wikipedia.org/wiki/Two-round_system\">wit</a>h <a href=\"http://en.wikipedia.org/wiki/Year\"></a>a <a href=\"http://en.wikipedia.org/wiki/Camouflage\">hidde</a>n <a href=\"http://en.wikipedia.org/wiki/Recorder_(musical_instrument)\">recorde</a>r<a href=\"http://en.wikipedia.org/wiki/Washington,_D%2eC%2e\"></a>. <a href=\"http://en.wikipedia.org/wiki/Project_commissioning\">Whe</a>n <a href=\"http://en.wikipedia.org/wiki/Police_raid\">police rai</a>d <a href=\"http://en.wikipedia.org/wiki/Gathering_(LDS_Church)\">the gatherin</a>g, Mannie flees with <a href=\"http://en.wikipedia.org/wiki/Wyoming\">Wyomin</a>g <a href=\"http://en.wikipedia.org/wiki/Legion_of_Honour\"></a>(<a href=\"http://en.wikipedia.org/wiki/Michael_Jackson\"></a>\"Wyoh\"<a href=\"http://en.wikipedia.org/wiki/Macedonia_(Greece)\"></a>) <a href=\"http://en.wikipedia.org/wiki/Knott_County,_Kentucky\">Knot</a>t, a political <a href=\"http://en.wikipedia.org/wiki/Political_demonstration\">agitato</a>r, <a href=\"http://en.wikipedia.org/wiki/Who_(pronoun)\">who</a>m <a href=\"http://en.wikipedia.org/wiki/Hebrew_language\">h</a>e <a href=\"http://en.wikipedia.org/wiki/Bill_(law)\">introduce</a>s to <a href=\"http://en.wikipedia.org/wiki/Ivy_Mike\">Mik</a>e. <a href=\"http://en.wikipedia.org/wiki/Male_prostitution\">The</a>y <a href=\"http://en.wikipedia.org/wiki/Confluence\">mee</a>t Mannie's <a href=\"http://en.wikipedia.org/wiki/Presidency_of_Donald_Trump\">forme</a>r <a href=\"http://en.wikipedia.org/wiki/Mentorship\">mento</a>r, <a href=\"http://en.wikipedia.org/wiki/Old_age\">the elderl</a>y <a href=\"http://en.wikipedia.org/wiki/The_Moon_Is_a_Harsh_Mistress\">Professor Bernardo de la Pa</a>z, <a href=\"http://en.wikipedia.org/wiki/Meaning_of_life\">wh</a>o <a href=\"http://en.wikipedia.org/wiki/Hypothesis\">claim</a>s <a href=\"http://en.wikipedia.org/wiki/Impeachment_of_Andrew_Johnson\">tha</a>t Luna <a href=\"http://en.wikipedia.org/wiki/Continuity_equation\">mus</a>t <a href=\"http://en.wikipedia.org/wiki/Aperture\">sto</a>p <a href=\"http://en.wikipedia.org/wiki/International_trade\">exportin</a>g <a href=\"http://en.wikipedia.org/wiki/Hydroponics\">hydroponi</a>c <a href=\"http://en.wikipedia.org/wiki/Wheat\">grai</a>n to Earth <a href=\"http://en.wikipedia.org/wiki/Eponym\">o</a>r <a href=\"http://en.wikipedia.org/wiki/World_War_I\">it</a>s ice-mines <a href=\"http://en.wikipedia.org/wiki/Free_will\">wil</a>l soon <a href=\"http://en.wikipedia.org/wiki/Ontology\">b</a>e <a href=\"http://en.wikipedia.org/wiki/Fatigue\">exhauste</a>d, leaving the Moon <a href=\"http://en.wikipedia.org/wiki/Dry_toilet\">waterles</a>s. <a href=\"http://en.wikipedia.org/wiki/Join\">Joinin</a>g the <a href=\"http://en.wikipedia.org/wiki/Cabal\">caba</a>l, Mike calculates that <a href=\"http://en.wikipedia.org/wiki/Independent_politician\">withou</a>t <a href=\"http://en.wikipedia.org/wiki/Cancer\">preventio</a>n, <a href=\"http://en.wikipedia.org/wiki/Food_riot\">food riot</a>s <a href=\"http://en.wikipedia.org/wiki/Gulf_War\">will occu</a>r <a href=\"http://en.wikipedia.org/wiki/2003_Washington_Huskies_football_team\">in seven year</a>s <a href=\"http://en.wikipedia.org/wiki/Gleichschaltung\">an</a>d <a href=\"http://en.wikipedia.org/wiki/Cannibalism\">cannibalis</a>m in <a href=\"http://en.wikipedia.org/wiki/Territories_of_the_United_States\">nin</a>e. Wyoh and <a href=\"http://en.wikipedia.org/wiki/The_Professor_(Gilligan%27s_Island)\">the Professo</a>r <a href=\"http://en.wikipedia.org/wiki/Decidability_(logic)\">decid</a>e to <a href=\"http://en.wikipedia.org/wiki/Invasion_of_Poland\">star</a>t <a href=\"http://en.wikipedia.org/wiki/Mexican_Revolution\">a revolutio</a>n, and <a href=\"http://en.wikipedia.org/wiki/Coercion\">persuad</a>e Mannie to <a href=\"http://en.wikipedia.org/wiki/Enlargement_of_NATO\">joi</a>n <a href=\"http://en.wikipedia.org/wiki/Afterlife\">afte</a>r Mike calculates a <a href=\"http://en.wikipedia.org/wiki/1967_Oak_Lawn_tornado_outbreak\">one i</a>n seven <a href=\"http://en.wikipedia.org/wiki/Probability\">chanc</a>e <a href=\"http://en.wikipedia.org/wiki/Jin_dynasty_(266%e2%80%93420)\">o</a>f <a href=\"http://en.wikipedia.org/wiki/Social_status\">succes</a>s.<br><br>Mannie, Wyoh, and the Professor <a href=\"http://en.wikipedia.org/wiki/Trade_union\">organiz</a>e <a href=\"http://en.wikipedia.org/wiki/Clandestine_cell_system\">covert cell</a>s <a href=\"http://en.wikipedia.org/wiki/Protectorate\">protecte</a>d <a href=\"http://en.wikipedia.org/wiki/Boron\">b</a>y Mike, who <a href=\"http://en.wikipedia.org/wiki/Nuclear_reactor\">control</a>s the <a href=\"http://en.wikipedia.org/wiki/Telephone_exchange\">telephone syste</a>m and <a href=\"http://en.wikipedia.org/wiki/Bribery\">present</a>s <a href=\"http://en.wikipedia.org/wiki/Suicide\">himsel</a>f <a href=\"http://en.wikipedia.org/wiki/Colombia\">a</a>s \"<a href=\"http://en.wikipedia.org/wiki/Adam\">Ada</a>m <a href=\"http://en.wikipedia.org/wiki/Selene\">Selen</a>e\", <a href=\"http://en.wikipedia.org/wiki/Leadership\">leade</a>r <a href=\"http://en.wikipedia.org/wiki/KABC-TV\">of th</a>e <a href=\"http://en.wikipedia.org/wiki/Political_movement\">movement</a>. Mannie <a href=\"http://en.wikipedia.org/wiki/Save_(baseball)\">save</a>s the <a href=\"http://en.wikipedia.org/wiki/Hagiography\">life o</a>f <a href=\"http://en.wikipedia.org/wiki/House_of_Stuart\">Stuar</a>t <a href=\"http://en.wikipedia.org/wiki/France-Albert_Ren%c3%a9\">Ren</a>e <a href=\"http://en.wikipedia.org/wiki/Lajoie\">LaJoi</a>e, a <a href=\"http://en.wikipedia.org/wiki/Slum\">slummin</a>g <a href=\"http://en.wikipedia.org/wiki/Upper_class\">high-societ</a>y <a href=\"http://en.wikipedia.org/wiki/Tourism\">touris</a>t, who is <a href=\"http://en.wikipedia.org/wiki/NBA_G_League\">assigne</a>d to <a href=\"http://en.wikipedia.org/wiki/Shapeshifting\">tur</a>n <a href=\"http://en.wikipedia.org/wiki/Public_opinion\">public opinio</a>n <a href=\"http://en.wikipedia.org/wiki/Atmosphere_of_Earth\">on Eart</a>h <a href=\"http://en.wikipedia.org/wiki/Bias\">in favo</a>r of Lunar <a href=\"http://en.wikipedia.org/wiki/Independence\">independenc</a>e. <a href=\"http://en.wikipedia.org/wiki/Diyarbak%c4%b1r\">Ami</a>d <a href=\"http://en.wikipedia.org/wiki/Sexual_intercourse\">mountin</a>g <a href=\"http://en.wikipedia.org/wiki/George_Floyd_protests\">unres</a>t <a href=\"http://en.wikipedia.org/wiki/Heating_pad\">fomente</a>d by <a href=\"http://en.wikipedia.org/wiki/Iranian_Revolution\">the revolutionarie</a>s, Earth <a href=\"http://en.wikipedia.org/wiki/Military\">soldier</a>s <a href=\"http://en.wikipedia.org/wiki/Hectare\">ar</a>e <a href=\"http://en.wikipedia.org/wiki/Atlantic_slave_trade\">brough</a>t <a href=\"http://en.wikipedia.org/wiki/Inch\">in</a>. <a href=\"http://en.wikipedia.org/wiki/The_New_York_Times\">Th</a>e <a href=\"http://en.wikipedia.org/wiki/Military_discipline\">undiscipline</a>d troops <a href=\"http://en.wikipedia.org/wiki/Capital_punishment\">kil</a>l <a href=\"http://en.wikipedia.org/wiki/Canada\">som</a>e <a href=\"http://en.wikipedia.org/wiki/Local_government\">loca</a>l <a href=\"http://en.wikipedia.org/wiki/Female\">young wome</a>n, who occupy a quasi-Victorian <a href=\"http://en.wikipedia.org/wiki/Phylogenetic_tree\">positio</a>n <a href=\"http://en.wikipedia.org/wiki/Sexual_violence_in_the_Tigray_War\">in th</a>e female-starved <a href=\"http://en.wikipedia.org/wiki/Lunar_Society_of_Birmingham\">Lunar societ</a>y, and <a href=\"http://en.wikipedia.org/wiki/Riot\">riotin</a>g <a href=\"http://en.wikipedia.org/wiki/1980_eruption_of_Mount_St%2e_Helens\">erupt</a>s. Although it pre-empts <a href=\"http://en.wikipedia.org/wiki/Non-binary_gender\">thei</a>r <a href=\"http://en.wikipedia.org/wiki/Urban_planning\">plan</a>s, the Loonies and Mike <a href=\"http://en.wikipedia.org/wiki/Second_Italo-Ethiopian_War\">overcom</a>e <a href=\"http://en.wikipedia.org/wiki/Eighth_Route_Army\">the soldier</a>s and <a href=\"http://en.wikipedia.org/wiki/Adolf_Hitler%27s_rise_to_power\">seize powe</a>r from the <a href=\"http://en.wikipedia.org/wiki/Warden_(college)\">Warde</a>n<a href=\"http://en.wikipedia.org/wiki/%2eas\">. A</a>s Earth <a href=\"http://en.wikipedia.org/wiki/Motion\">move</a>s <a href=\"http://en.wikipedia.org/wiki/Guiyi_Circuit\">to reclai</a>m <a href=\"http://en.wikipedia.org/wiki/New_Zealand\">the colon</a>y, the revolutionaries plan to <a href=\"http://en.wikipedia.org/wiki/Plant_defense_against_herbivory\">defend themselve</a>s with the <a href=\"http://en.wikipedia.org/wiki/Electromagnetic_catapult\">electromagnetic catapul</a>t <a href=\"http://en.wikipedia.org/wiki/French_wine\">used t</a>o export wheat. <br><br>Mike <a href=\"http://en.wikipedia.org/wiki/Impersonator\">impersonate</a>s the Warden in <a href=\"http://en.wikipedia.org/wiki/Propaganda\">message</a>s to Earth, to <a href=\"http://en.wikipedia.org/wiki/Gift\">giv</a>e the revolutionaries time <a href=\"http://en.wikipedia.org/wiki/Freedom_of_Association_and_Protection_of_the_Right_to_Organise_Convention\">to organiz</a>e <a href=\"http://en.wikipedia.org/wiki/African-American_art\">their wor</a>k. <a href=\"http://en.wikipedia.org/wiki/Meanwhile_(Futurama)\">Meanwhil</a>e, the Professor <a href=\"http://en.wikipedia.org/wiki/Global_spread_of_the_printing_press\">sets u</a>p an \"Ad-Hoc <a href=\"http://en.wikipedia.org/wiki/United_States_Congress\">Congress</a>\" to <a href=\"http://en.wikipedia.org/wiki/False_consciousness\">distrac</a>t <a href=\"http://en.wikipedia.org/wiki/Anti-communism\">dissenter</a>s. When Earth <a href=\"http://en.wikipedia.org/wiki/De_jure\">finall</a>y <a href=\"http://en.wikipedia.org/wiki/Learning\">learn</a>s <a href=\"http://en.wikipedia.org/wiki/Final_Solution\">the trut</a>h, Luna <a href=\"http://en.wikipedia.org/wiki/Treaty_of_Manila_(1946)\">declares its independenc</a>e on <a href=\"http://en.wikipedia.org/wiki/Independence_Day_(United_States)\">July </a>4, <a href=\"http://en.wikipedia.org/wiki/3rd_millennium\">207</a>6, the <a href=\"http://en.wikipedia.org/wiki/Metropolitan_statistical_area\">300t</a>h <a href=\"http://en.wikipedia.org/wiki/Party_Foundation_Day\">anniversary o</a>f the <a href=\"http://en.wikipedia.org/wiki/United_States_Declaration_of_Independence\">US Declaration of Independenc</a>e, and <a href=\"http://en.wikipedia.org/wiki/The_Blitz\">heavil</a>y <a href=\"http://en.wikipedia.org/wiki/Baseball\">base</a>s <a href=\"http://en.wikipedia.org/wiki/Monotypic_taxon\">its ow</a>n <a href=\"http://en.wikipedia.org/wiki/Declaration_of_war\">declaratio</a>n <a href=\"http://en.wikipedia.org/wiki/Eritrean_War_of_Independence\">of independenc</a>e on <a href=\"http://en.wikipedia.org/wiki/Italian_language\">it</a>.<br><br>Mannie and the Professor <a href=\"http://en.wikipedia.org/wiki/Goto\">go t</a>o Earth (despite the <a href=\"http://en.wikipedia.org/wiki/Warsaw_Pact_invasion_of_Czechoslovakia\">crushin</a>g gravity) to plead Luna's <a href=\"http://en.wikipedia.org/wiki/Case_law\">cas</a>e, <a href=\"http://en.wikipedia.org/wiki/Geography\">wher</a>e <a href=\"http://en.wikipedia.org/wiki/Singular_they\">the</a>y are <a href=\"http://en.wikipedia.org/wiki/Tradition\">receive</a>d in the <a href=\"http://en.wikipedia.org/wiki/Federal_republic\">Federate</a>d <a href=\"http://en.wikipedia.org/wiki/Nation\">Nation</a>s<a href=\"http://en.wikipedia.org/wiki/Foot_(unit)\"></a>' <a href=\"http://en.wikipedia.org/wiki/Headquarters\">headquarter</a>s <a href=\"http://en.wikipedia.org/wiki/Agra\">in Agr</a>a, and <a href=\"http://en.wikipedia.org/wiki/Embarkation\">embar</a>k on <a href=\"http://en.wikipedia.org/wiki/Happier_Than_Ever,_The_World_Tour\">a world tou</a>r <a href=\"http://en.wikipedia.org/wiki/Advocacy_group\">advocatin</a>g the <a href=\"http://en.wikipedia.org/wiki/High,_middle_and_low_justice\">right t</a>o Lunar <a href=\"http://en.wikipedia.org/wiki/Self-governance\">self-governmen</a>t, <a href=\"http://en.wikipedia.org/wiki/While_loop\">whil</a>e urging Earth's <a href=\"http://en.wikipedia.org/wiki/Sovereign_state\">national government</a>s <a href=\"http://en.wikipedia.org/wiki/Close_Encounters_of_the_Third_Kind\">to buil</a>d a catapult to <a href=\"http://en.wikipedia.org/wiki/Population_transfer\">transfe</a>r <a href=\"http://en.wikipedia.org/wiki/Water\">wate</a>r to Luna <a href=\"http://en.wikipedia.org/wiki/Quid_pro_quo\">in exchange fo</a>r wheat<a href=\"http://en.wikipedia.org/wiki/%2ein\">. I</a>n a <a href=\"http://en.wikipedia.org/wiki/Public_relations\">public relation</a>s <a href=\"http://en.wikipedia.org/wiki/Ploy_(musical_instrument)\">plo</a>y, Mannie provokes a <a href=\"http://en.wikipedia.org/wiki/Letter_(message)\">brie</a>f <a href=\"http://en.wikipedia.org/wiki/Prisoner_of_war\">imprisonmen</a>t by local religious <a href=\"http://en.wikipedia.org/wiki/Discrimination\">bigot</a>s on <a href=\"http://en.wikipedia.org/wiki/Indictment\">charge</a>s of public <a href=\"http://en.wikipedia.org/wiki/Morality\">immoralit</a>y and <a href=\"http://en.wikipedia.org/wiki/Polygamy\">polygam</a>y, <a href=\"http://en.wikipedia.org/wiki/Harvest\">reapin</a>g <a href=\"http://en.wikipedia.org/wiki/Epidemic\">widesprea</a>d <a href=\"http://en.wikipedia.org/wiki/Sympathy\">sympath</a>y. <a href=\"http://en.wikipedia.org/wiki/Nevertheless_(TV_series)\">Nevertheless</a>, the Federated Nations <a href=\"http://en.wikipedia.org/wiki/Historical_revisionism\">rejec</a>t <a href=\"http://en.wikipedia.org/wiki/1913_Australian_referendum\">the proposal</a>s, and the <a href=\"http://en.wikipedia.org/wiki/Diplomatic_mission\">diplomatic missio</a>n returns to <a href=\"http://en.wikipedia.org/wiki/Luna_(1990s_American_band)\">Luna</a>.<br><br>Public opinion on Earth <a href=\"http://en.wikipedia.org/wiki/Regeneration_(Doctor_Who)\">has becom</a>e <a href=\"http://en.wikipedia.org/wiki/Liberal_democracy\">fragmente</a>d, while on Luna, the <a href=\"http://en.wikipedia.org/wiki/ABC_News\">new</a>s of Mannie's <a href=\"http://en.wikipedia.org/wiki/Arrest\">arres</a>t and <a href=\"http://en.wikipedia.org/wiki/Philippines_campaign_(1944%e2%80%931945)\">an attemp</a>t to bribe <a href=\"http://en.wikipedia.org/wiki/Saddam_Hussein\">hi</a>m by <a href=\"http://en.wikipedia.org/wiki/Shipbuilding\">makin</a>g him <a href=\"http://en.wikipedia.org/wiki/Madison_Square_Garden\">the ne</a>w Warden <a href=\"http://en.wikipedia.org/wiki/Mammal\">hav</a>e <a href=\"http://en.wikipedia.org/wiki/Globalization\">unifie</a>d the <a href=\"http://en.wikipedia.org/wiki/Normal_distribution\">normall</a>y <a href=\"http://en.wikipedia.org/wiki/Politics\">apolitica</a>l Loonies. <a href=\"http://en.wikipedia.org/wiki/2019_United_Kingdom_general_election\">An electio</a>n is <a href=\"http://en.wikipedia.org/wiki/Political_prisoner\">hel</a>d in <a href=\"http://en.wikipedia.org/wiki/Coimbatore\">whic</a>h Mannie, Wyoh, and the Professor are elected (<a href=\"http://en.wikipedia.org/wiki/Xiongnu\">possibl</a>y by <a href=\"http://en.wikipedia.org/wiki/Saudi-led_intervention_in_Bahrain\">the interventio</a>n of Mike).<br><br>The Federated Nations of Earth <a href=\"http://en.wikipedia.org/wiki/Saudi_Arabia_at_the_2010_Summer_Youth_Olympics\">sen</a>d an <a href=\"http://en.wikipedia.org/wiki/Infantry\">infantr</a>y force to destroy the Lunar revolution, <a href=\"http://en.wikipedia.org/wiki/Conjunction_(grammar)\">bu</a>t <a href=\"http://en.wikipedia.org/wiki/United_States_Armed_Forces\">the troop</a>s, with <a href=\"http://en.wikipedia.org/wiki/Abbot\">superio</a>r <a href=\"http://en.wikipedia.org/wiki/Weapon\">arm</a>s but inexperienced in <a href=\"http://en.wikipedia.org/wiki/Gravity\">low-gravit</a>y <a href=\"http://en.wikipedia.org/wiki/Black_market\">undergroun</a>d <a href=\"http://en.wikipedia.org/wiki/Fighter_aircraft\">comba</a>t, are <a href=\"http://en.wikipedia.org/wiki/1988_United_States_Senate_election_in_Montana\">defeated b</a>y the Loonies <a href=\"http://en.wikipedia.org/wiki/Pyrrhic_victory\">at great cos</a>t. The <a href=\"http://en.wikipedia.org/wiki/Rumor\">rumo</a>r is <a href=\"http://en.wikipedia.org/wiki/Doxing\">circulate</a>d that Mike's <a href=\"http://en.wikipedia.org/wiki/Alter_ego\">alter eg</a>o Adam Selene <a href=\"http://en.wikipedia.org/wiki/Republic_of_China_(1912%e2%80%931949)\">wa</a>s among <a href=\"http://en.wikipedia.org/wiki/Death\">the dea</a>d, <a href=\"http://en.wikipedia.org/wiki/Censorship\">removin</a>g the <a href=\"http://en.wikipedia.org/wiki/Demand\">nee</a>d for him <a href=\"http://en.wikipedia.org/wiki/Donor_portrait\">to appea</a>r <a href=\"http://en.wikipedia.org/wiki/Real_life\">in perso</a>n.<br><br>Earth <a href=\"http://en.wikipedia.org/wiki/Wine\">stil</a>l <a href=\"http://en.wikipedia.org/wiki/Belarus%e2%80%93Lithuania_relations\">refuses to recogniz</a>e Lunar independence, and the revolutionaries deploy their catapult <a href=\"http://en.wikipedia.org/wiki/Nuclear_weapon\">weapo</a>n. When Mike <a href=\"http://en.wikipedia.org/wiki/Kinetic_bombardment\">launches rock</a>s at <a href=\"http://en.wikipedia.org/wiki/Population_density\">sparsely populate</a>d <a href=\"http://en.wikipedia.org/wiki/Franchising\">location</a>s on Earth, <a href=\"http://en.wikipedia.org/wiki/Miranda_warning\">warning</a>s are <a href=\"http://en.wikipedia.org/wiki/United_States_diplomatic_cables_leak\">release</a>d <a href=\"http://en.wikipedia.org/wiki/Member_states_of_the_United_Nations\">to th</a>e <a href=\"http://en.wikipedia.org/wiki/Mass_media\">pres</a>s <a href=\"http://en.wikipedia.org/wiki/Ornament_(art)\">detailin</a>g <a href=\"http://en.wikipedia.org/wiki/Great_Depression\">the time</a>s and locations of <a href=\"http://en.wikipedia.org/wiki/Atomic_bombings_of_Hiroshima_and_Nagasaki\">the bombing</a>s, which <a href=\"http://en.wikipedia.org/wiki/Childbirth\">delive</a>r <a href=\"http://en.wikipedia.org/wiki/Kinetic_energy\">kinetic energ</a>y <a href=\"http://en.wikipedia.org/wiki/Purchasing_power\">equivalent t</a>o atomic <a href=\"http://en.wikipedia.org/wiki/Explosion\">blast</a>s. <a href=\"http://en.wikipedia.org/wiki/Battle_of_Grand_Port\">Som</a>e scoffers, <a href=\"http://en.wikipedia.org/wiki/Standardization\">as well a</a>s <a href=\"http://en.wikipedia.org/wiki/Apocalypse\">apocalypti</a>c <a href=\"http://en.wikipedia.org/wiki/Religion\">religious group</a>s, <a href=\"http://en.wikipedia.org/wiki/Denmark%e2%80%93Germany_border\">travel t</a>o the <a href=\"http://en.wikipedia.org/wiki/Archaeology\">site</a>s and die, <a href=\"http://en.wikipedia.org/wiki/Turbulence\">turnin</a>g public opinion <a href=\"http://en.wikipedia.org/wiki/Opposition_to_United_States_involvement_in_the_Vietnam_War\">against th</a>e <a href=\"http://en.wikipedia.org/wiki/Fledge\">fledglin</a>g nation. For Mike, <a href=\"http://en.wikipedia.org/wiki/Determinism\">guidin</a>g <a href=\"http://en.wikipedia.org/wiki/Dozens_(game)\">dozen</a>s of <a href=\"http://en.wikipedia.org/wiki/Hermaphrodite\">simultaneou</a>s <a href=\"http://en.wikipedia.org/wiki/Projectile\">projectil</a>e <a href=\"http://en.wikipedia.org/wiki/Strike_action\">strike</a>s <a href=\"http://en.wikipedia.org/wiki/Complementarianism\">require</a>s an <a href=\"http://en.wikipedia.org/wiki/Joshua_Key_(soldier)\">unprecedente</a>d <a href=\"http://en.wikipedia.org/wiki/Computer\">computationa</a>l <a href=\"http://en.wikipedia.org/wiki/Guest_appearance\">fea</a>t, and <a href=\"http://en.wikipedia.org/wiki/Cuius_regio,_eius_religio\">whe</a>n the pinpoints <a href=\"http://en.wikipedia.org/wiki/Light\">ligh</a>t up on <a href=\"http://en.wikipedia.org/wiki/Earth\">the Eart</a>h <a href=\"http://en.wikipedia.org/wiki/Radiocarbon_dating\">belo</a>w, he <a href=\"http://en.wikipedia.org/wiki/Tell_(archaeology)\">tell</a>s Mannie it is an <a href=\"http://en.wikipedia.org/wiki/Orgasm\">orgasmi</a>c <a href=\"http://en.wikipedia.org/wiki/Empirical_evidence\">experienc</a>e.<br><br>Earth <a href=\"http://en.wikipedia.org/wiki/Angkasawan_program\">send</a>s a <a href=\"http://en.wikipedia.org/wiki/Mass_production\">massiv</a>e <a href=\"http://en.wikipedia.org/wiki/Ambush\">sneak attac</a>k to <a href=\"http://en.wikipedia.org/wiki/Peaceful_Revolution\">put an en</a>d to <a href=\"http://en.wikipedia.org/wiki/American_Revolutionary_War\">the rebellio</a>n, <a href=\"http://en.wikipedia.org/wiki/Swatting\">sendin</a>g <a href=\"http://en.wikipedia.org/wiki/Spacecraft\">ship</a>s in a <a href=\"http://en.wikipedia.org/wiki/Obesity\">wid</a>e <a href=\"http://en.wikipedia.org/wiki/Orbit\">orbi</a>t <a href=\"http://en.wikipedia.org/wiki/Flirting\">approachin</a>g from <a href=\"http://en.wikipedia.org/wiki/Far_side_of_the_Moon\">the Moon's far sid</a>e. <a href=\"http://en.wikipedia.org/wiki/1986_United_States_bombing_of_Libya\">The attac</a>k <a href=\"http://en.wikipedia.org/wiki/Military_occupation\">occupie</a>s <a href=\"http://en.wikipedia.org/wiki/Al_Anbar_Governorate\">the citie</a>s, <a href=\"http://en.wikipedia.org/wiki/Space_Shuttle_Challenger_disaster\">destroy</a>s Mike's <a href=\"http://en.wikipedia.org/wiki/Star_Trek%3a_The_Original_Series\">origina</a>l catapult, and <a href=\"http://en.wikipedia.org/wiki/Ingestion\">take</a>s him <a href=\"http://en.wikipedia.org/wiki/Single-player_video_game\">offlin</a>e, but the Loonies have built a <a href=\"http://en.wikipedia.org/wiki/Health_care\">secondar</a>y, hidden catapult. <a href=\"http://en.wikipedia.org/wiki/With_(EP)\">Wit</a>h Mannie <a href=\"http://en.wikipedia.org/wiki/Theatre\">actin</a>g as its <a href=\"http://en.wikipedia.org/wiki/Distributed_generation\">on-sit</a>e <a href=\"http://en.wikipedia.org/wiki/Commander-in-chief\">commande</a>r and doing <a href=\"http://en.wikipedia.org/wiki/Computation\">computation</a>s <a href=\"http://en.wikipedia.org/wiki/Handicraft\">by han</a>d, the Loonies <a href=\"http://en.wikipedia.org/wiki/Fraternities_and_sororities\">continu</a>e <a href=\"http://en.wikipedia.org/wiki/Allied_naval_bombardments_of_Japan_during_World_War_II\">to bombar</a>d the dismayed <a href=\"http://en.wikipedia.org/wiki/World_government\">Earth governmen</a>t <a href=\"http://en.wikipedia.org/wiki/Treaty_of_San_Francisco\">unti</a>l it concedes Luna's independence. Professor Bernardo de la Paz, <a href=\"http://en.wikipedia.org/wiki/2008_Progressive_Conservative_Party_of_New_Brunswick_leadership_election\">as leade</a>r of <a href=\"http://en.wikipedia.org/wiki/United_States\">the natio</a>n, <a href=\"http://en.wikipedia.org/wiki/Presidential_proclamation_(United_States)\">proclaim</a>s <a href=\"http://en.wikipedia.org/wiki/Surrender_of_Japan\">victor</a>y to the gathered <a href=\"http://en.wikipedia.org/wiki/Crowd_psychology\">crowd</a>s, but <a href=\"http://en.wikipedia.org/wiki/Pedro_I%27s_heart\">his hear</a>t <a href=\"http://en.wikipedia.org/wiki/Cylinder\">give</a>s <a href=\"http://en.wikipedia.org/wiki/Transgender\">ou</a>t and he <a href=\"http://en.wikipedia.org/wiki/Die_(manufacturing)\">dies</a>. Mannie <a href=\"http://en.wikipedia.org/wiki/Battle_of_Dachen_Archipelago\">takes contro</a>l, but Wyoh and he <a href=\"http://en.wikipedia.org/wiki/Sleeper_hit\">eventuall</a>y <a href=\"http://en.wikipedia.org/wiki/Brexit\">withdra</a>w from politics <a href=\"http://en.wikipedia.org/wiki/Nudity\">altogethe</a>r, and <a href=\"http://en.wikipedia.org/wiki/Geometric_Brownian_motion\">find tha</a>t <a href=\"http://en.wikipedia.org/wiki/Bolsheviks\">the new governmen</a>t falls <a href=\"http://en.wikipedia.org/wiki/Short_story\">shor</a>t of their <a href=\"http://en.wikipedia.org/wiki/Utopia\">utopia</a>n <a href=\"http://en.wikipedia.org/wiki/Expected_value\">expectation</a>s, <a href=\"http://en.wikipedia.org/wiki/Fall_of_Constantinople\">fallin</a>g <a href=\"http://en.wikipedia.org/wiki/Enabling_Act_of_1933\">into </a>a <a href=\"http://en.wikipedia.org/wiki/Praxis_(process)\">mundan</a>e <a href=\"http://en.wikipedia.org/wiki/Political_parties_in_the_United_States\">political party syste</a>m.<br><br>When Mannie <a href=\"http://en.wikipedia.org/wiki/Suicide_attempt\">tries t</a>o <a href=\"http://en.wikipedia.org/wiki/Speech\">spea</a>k to Mike, he finds that the computer, <a href=\"http://en.wikipedia.org/wiki/Rolling_blackout\">disconnecte</a>d by <a href=\"http://en.wikipedia.org/wiki/Bombardment_of_Brussels\">the bombardmen</a>t, has <a href=\"http://en.wikipedia.org/wiki/Shipwreck\">los</a>t its <a href=\"http://en.wikipedia.org/wiki/Self-awareness\">self-awarenes</a>s and <a href=\"http://en.wikipedia.org/wiki/Anthropomorphism\">human-lik</a>e <a href=\"http://en.wikipedia.org/wiki/Memory\">memorie</a>s after repair, although <a href=\"http://en.wikipedia.org/wiki/Christianity\">otherwis</a>e <a href=\"http://en.wikipedia.org/wiki/Function_(mathematics)\">functiona</a>l. Mike <a href=\"http://en.wikipedia.org/wiki/Slavery\">gav</a>e <a href=\"http://en.wikipedia.org/wiki/Rajiv_Gandhi\">his lif</a>e <a href=\"http://en.wikipedia.org/wiki/Drop_It_Like_It%27s_Hot\">for hi</a>s <a href=\"http://en.wikipedia.org/wiki/Country_music\">country</a>. <a href=\"http://en.wikipedia.org/wiki/Mourning\">Mournin</a>g <a href=\"http://en.wikipedia.org/wiki/Adam_Kuckhoff\">his frien</a>d, Mannie <a href=\"http://en.wikipedia.org/wiki/Wallflower_(Fringe)\">ask</a>s<a href=\"http://en.wikipedia.org/wiki/Colon_(punctuation)\"></a>: \"<a href=\"http://en.wikipedia.org/wiki/God\">Bo</a>g, <a href=\"http://en.wikipedia.org/wiki/Is-a\">is </a>a computer <a href=\"http://en.wikipedia.org/wiki/Hindu%e2%80%93German_Conspiracy\">one o</a>f <a href=\"http://en.wikipedia.org/wiki/You\">You</a>r <a href=\"http://en.wikipedia.org/wiki/Organism\">creature</a>s?\""
      ],
      "text/plain": [
       "<IPython.core.display.HTML object>"
      ]
     },
     "execution_count": 31,
     "metadata": {},
     "output_type": "execute_result"
    }
   ],
   "source": [
    "# A8:SanityCheck\n",
    "\n",
    "import wikifier, importlib\n",
    "importlib.reload(wikifier)\n",
    "\n",
    "wikification = wikifier.get_wikification(unknown_file_path, USER_KEY)\n",
    "annotated_doc = wikifier.embed_links(wikification)\n",
    "HTML(re.sub(\"\\n\", \"<br>\", annotated_doc))"
   ]
  },
  {
   "cell_type": "code",
   "execution_count": null,
   "metadata": {},
   "outputs": [],
   "source": []
  }
 ],
 "metadata": {
  "kernelspec": {
   "display_name": "Python 3 (ipykernel)",
   "language": "python",
   "name": "python3"
  },
  "language_info": {
   "codemirror_mode": {
    "name": "ipython",
    "version": 3
   },
   "file_extension": ".py",
   "mimetype": "text/x-python",
   "name": "python",
   "nbconvert_exporter": "python",
   "pygments_lexer": "ipython3",
   "version": "3.10.13"
  }
 },
 "nbformat": 4,
 "nbformat_minor": 4
}
