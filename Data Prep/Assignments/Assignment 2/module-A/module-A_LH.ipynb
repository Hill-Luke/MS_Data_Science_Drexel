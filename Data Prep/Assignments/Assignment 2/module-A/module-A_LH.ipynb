{
 "cells": [
  {
   "cell_type": "markdown",
   "metadata": {},
   "source": [
    "## Module submission header\n",
    "### Submission preparation instructions \n",
    "_Completion of this header is mandatory, subject to a 2-point deduction to the assignment._ Only add plain text in the designated areas, i.e., replacing the relevant 'NA's. You must fill out all group member Names and Drexel email addresses in the below markdown list, under header __Module submission group__. It is required to fill out descriptive notes pertaining to any tutoring support received in the completion of this submission under the __Additional submission comments__ section at the bottom of the header. If no tutoring support was received, leave NA in place. You may as well list other optional comments pertaining to the submission at bottom. _Any distruption of this header's formatting will make your group liable to the 2-point deduction._\n",
    "\n",
    "### Module submission group\n",
    "- Group member 1\n",
    "    - Name: Luke Hill\n",
    "    - Email: lh967@drexel.edu\n",
    "\n",
    "### Additional submission comments\n",
    "- Tutoring support received: NA\n",
    "- Other (other): NA"
   ]
  },
  {
   "cell_type": "markdown",
   "metadata": {},
   "source": [
    "# Assignment Group 2\n",
    "\n",
    "## Module A _(25 points)_\n",
    "\n",
    "Overall, our goal will be to take the site's base, comma-delimiated format for schedules in [this format](http://www3.septa.org/ccstations/me/sched_data.csv), to convert them into a functioning schedule, like in [http://www3.septa.org/ccstations/me/](this page).\n",
    "\n",
    "__A1.__ _(3 points)_ First, complete the url construction in the function to get the real-time schedule for Suburban Station using SEPTA's API (as shown in the example in __Section 3.1.3__ in the lecture notes, use the correct station code) and put this in a list. Make sure you access the right endpoint for csv response! Note: documentation may be found [here](http://www3.septa.org/hackathon/), under the heading 'Center City Regional Rail Arrivals (csv)'. "
   ]
  },
  {
   "cell_type": "code",
   "execution_count": 1,
   "metadata": {},
   "outputs": [],
   "source": [
    "# A1:Function(2/3)\n",
    "\n",
    "import re, requests, csv\n",
    "from pprint import pprint\n",
    "from datetime import datetime as dt\n",
    "\n",
    "def get_current_schedule(station_code = '30th'):\n",
    "    \n",
    "    schedule_url = f\"http://www3.septa.org/ccstations/{station_code}/sched_data.csv\"\n",
    "    \n",
    "    access_time = dt.now()\n",
    "    response = requests.get(schedule_url)\n",
    "    \n",
    "    \n",
    "    return list(csv.reader(response.text.strip().split(\"\\n\"))), access_time"
   ]
  },
  {
   "cell_type": "markdown",
   "metadata": {},
   "source": [
    "Depending on the time of day and the day of the week, your output could be:\n",
    "```\n",
    "(datetime.datetime(2021, 9, 25, 16, 11, 30, 259963),\n",
    " [[\"EMG=' No Emg Message\"],\n",
    "  ['R4S=04:55',\n",
    "   'Airport',\n",
    "   '3B',\n",
    "   ' 2 LATE',\n",
    "   'LOCAL                    ',\n",
    "   '3449  ',\n",
    "   '<_NEXT_MSG>05:55',\n",
    "   'Airport',\n",
    "   '3B',\n",
    "   'ON TIME',\n",
    "   'LOCAL                    ',\n",
    "   '453   ',\n",
    "   '<_NEXT_MSG>06:55',\n",
    "   'Airport',\n",
    "   '3B',\n",
    "   'ON TIME',\n",
    "   'LOCAL                    ',\n",
    "   '3457  ',\n",
    "   '<_NEXT_MSG>07:55',\n",
    "   'Airport',\n",
    "   '3B',\n",
    "   'ON TIME',\n",
    "   'LOCAL                    ',\n",
    "   '461   ',\n",
    "   ''],\n",
    "  ['R4N=05:35',\n",
    "   'Warminster',\n",
    "   '2A',\n",
    "   'ON TIME',\n",
    "   'LOCAL                    ',\n",
    "   '450   ',\n",
    "   '<_NEXT_MSG>07:35',\n",
    "   'Warminster',\n",
    "   '2A',\n",
    "   'ON TIME',\n",
    "   'LOCAL                    ',\n",
    "   '458   ',\n",
    "   '<_NEXT_MSG>09:35',\n",
    "   'Warminster',\n",
    "   '2A',\n",
    "   'ON TIME',\n",
    "   'LOCAL                    ',\n",
    "   '464   ',\n",
    "   '<_NEXT_MSG>10:35',\n",
    "   'Warminster',\n",
    "   '2A',\n",
    "   'ON TIME',\n",
    "   'LOCAL                    ',\n",
    "   '468   ',\n",
    "   '']],\n",
    " '...',\n",
    " [['SERVICE=Effective Sunday September 5 new schedules will be in effect for most lines. See SEPTA.org for more information'],\n",
    "  ['TIMESTAMP=09/25/2021 16:11:21 PM']])\n",
    "```"
   ]
  },
  {
   "cell_type": "code",
   "execution_count": 2,
   "metadata": {},
   "outputs": [
    {
     "data": {
      "text/plain": [
       "(datetime.datetime(2023, 10, 28, 14, 59, 44, 474266),\n",
       " [[\"EMG=' No Emg Message\"],\n",
       "  ['R4S=04:55',\n",
       "   'Airport',\n",
       "   '3B',\n",
       "   'ON TIME',\n",
       "   'LOCAL                    ',\n",
       "   '449   ',\n",
       "   '<_NEXT_MSG>05:55',\n",
       "   'Airport',\n",
       "   '3B',\n",
       "   'ON TIME',\n",
       "   'LOCAL                    ',\n",
       "   '453   ',\n",
       "   '<_NEXT_MSG>06:55',\n",
       "   'Airport',\n",
       "   '3B',\n",
       "   'ON TIME',\n",
       "   'LOCAL                    ',\n",
       "   '457   ',\n",
       "   '<_NEXT_MSG>07:55',\n",
       "   'Airport',\n",
       "   '3B',\n",
       "   'ON TIME',\n",
       "   'LOCAL                    ',\n",
       "   '461   ',\n",
       "   ''],\n",
       "  ['R4N=04:35',\n",
       "   'Glenside',\n",
       "   '2A',\n",
       "   'ON TIME',\n",
       "   'LOCAL                    ',\n",
       "   '448   ',\n",
       "   '<_NEXT_MSG>05:35',\n",
       "   'Warminster',\n",
       "   '2A',\n",
       "   'ON TIME',\n",
       "   'LOCAL                    ',\n",
       "   '450   ',\n",
       "   '<_NEXT_MSG>06:35',\n",
       "   'Glenside',\n",
       "   '2A',\n",
       "   'ON TIME',\n",
       "   'LOCAL                    ',\n",
       "   '456   ',\n",
       "   '<_NEXT_MSG>07:35',\n",
       "   'Warminster',\n",
       "   '2A',\n",
       "   'ON TIME',\n",
       "   'LOCAL                    ',\n",
       "   '458   ',\n",
       "   '']],\n",
       " '...',\n",
       " [[\"SERVICE=' No Service Message\"], ['TIMESTAMP=10/28/2023 15:59:42 PM']])"
      ]
     },
     "execution_count": 2,
     "metadata": {},
     "output_type": "execute_result"
    }
   ],
   "source": [
    "# A1:SanityCheck\n",
    "\n",
    "schedule, access_time = get_current_schedule(station_code = \"ss\")\n",
    "access_time, schedule[0:3], \"...\", schedule[-2:]"
   ]
  },
  {
   "cell_type": "markdown",
   "metadata": {},
   "source": [
    "Now review the data, is there a single column devoted to _all_ of each type of data, e.g., a single timestamps column? "
   ]
  },
  {
   "cell_type": "code",
   "execution_count": 3,
   "metadata": {},
   "outputs": [
    {
     "name": "stdout",
     "output_type": "stream",
     "text": [
      "No\n"
     ]
    }
   ],
   "source": [
    "# A1:Inline(1/3)\n",
    "\n",
    "# Are all timestamps contained in a single column? \n",
    "# Print \"Yes\" or \"No\"\n",
    "print(\"No\")"
   ]
  },
  {
   "cell_type": "markdown",
   "metadata": {},
   "source": [
    "__A2.__ _(8 points)_ Next, your job is is to complete the function to pre-process data from __A1__ into a three-column format, as a list (rows) of lists (columns).\n",
    "\n",
    "In particular, extract three pieces of information for each train: its scheduled arrival time, destination, and its lateness/timeliness status. Store these in a list that looks like the following.\n",
    "\n",
    "```\n",
    "[[<scheduled time>, <destination>, <on-time status>],...\n",
    " [<scheduled time>, <destination>, <on-time status>]]\n",
    "```\n",
    "\n",
    "\\[__HINT:__ Regular expressions can extract the times. Each train-line is on a separate newline, and a variable number of train information is reported on each line. Consider using the modulus operator (`%`), which provides the remainder when one number is divided by another: `remainder = numerator % denominator`. Each of the variable number of trains takes up a fixed number of columns.\\]"
   ]
  },
  {
   "cell_type": "code",
   "execution_count": 4,
   "metadata": {},
   "outputs": [],
   "source": [
    "# A2:Function(6/8)\n",
    "\n",
    "def get_trains(schedule):\n",
    "    trains = []\n",
    "    ind_train = [None, None, None]\n",
    "    train_pattern=r'[_<>=]'\n",
    "    for station in range(1, len(schedule)):\n",
    "        for item in range(0, len(schedule[station])):\n",
    "            # Extract Time\n",
    "            if re.findall(train_pattern, schedule[station][item]):\n",
    "                ind_train[0] = schedule[station][item][-5:len(schedule[station][item])]\n",
    "            # Extract Name\n",
    "            elif (\n",
    "                (item % 2 == 1) and \n",
    "                not re.search(r'[0-9]', schedule[station][item].strip(' ')) and \n",
    "                schedule[station][item].strip(' ') not in ['ON TIME', 'LATE']\n",
    "            ):\n",
    "                ind_train[1] = schedule[station][item]\n",
    "            # Extract Status\n",
    "            elif 'ON TIME' in schedule[station][item] or 'LATE' in schedule[station][item]:\n",
    "                ind_train[2] = schedule[station][item]\n",
    "\n",
    "            # If we have collected all parts for an entry, add it to the list of trains\n",
    "            if all(ind_train):\n",
    "                trains.append(ind_train)\n",
    "                ind_train = [None, None, None]\n",
    "                    \n",
    "        return trains"
   ]
  },
  {
   "cell_type": "markdown",
   "metadata": {},
   "source": [
    "Depending on what time's `schedule` you currently have stored in your active workspace, your output could be:\n",
    "```\n",
    "[['04:55', 'Airport', ' 2 LATE'],\n",
    " ['05:55', 'Airport', 'ON TIME'],\n",
    " ['06:55', 'Airport', 'ON TIME'],\n",
    " ['07:55', 'Airport', 'ON TIME'],\n",
    " ['05:35', 'Warminster', 'ON TIME'],\n",
    " ['07:35', 'Warminster', 'ON TIME'],\n",
    " ['09:35', 'Warminster', 'ON TIME'],\n",
    " ['10:35', 'Warminster', 'ON TIME'],\n",
    " ['05:35', 'Wilmington', 'ON TIME'],\n",
    " ['07:35', 'Wilmington', 'ON TIME']]\n",
    "```"
   ]
  },
  {
   "cell_type": "code",
   "execution_count": 16,
   "metadata": {},
   "outputs": [
    {
     "data": {
      "text/plain": [
       "[['04:55', 'Airport', 'ON TIME'],\n",
       " ['05:55', 'Airport', 'ON TIME'],\n",
       " ['06:55', 'Airport', 'ON TIME'],\n",
       " ['07:55', 'Airport', 'ON TIME']]"
      ]
     },
     "execution_count": 16,
     "metadata": {},
     "output_type": "execute_result"
    }
   ],
   "source": [
    "# A2:SanityCheck\n",
    "\n",
    "trains = get_trains(schedule)\n",
    "trains[:10]"
   ]
  },
  {
   "cell_type": "markdown",
   "metadata": {},
   "source": [
    "Does the format use 12- or 24-hour time?"
   ]
  },
  {
   "cell_type": "code",
   "execution_count": 17,
   "metadata": {},
   "outputs": [
    {
     "name": "stdout",
     "output_type": "stream",
     "text": [
      "12\n"
     ]
    }
   ],
   "source": [
    "# A2:Inline(2/8)\n",
    "\n",
    "# Does the format use 12- or 24-hour time?\n",
    "# Print \"12\" or \"24\"\n",
    "\n",
    "print(\"12\")"
   ]
  },
  {
   "cell_type": "markdown",
   "metadata": {},
   "source": [
    "__A3.__ _(2 points)_ Now complete the time parsing function which takes the `trains` output from __A2__ and parses its timestamp column using the `dateutil.parser` module-function. The three values (now with timestamp parsed) should then be output as a new list, which is sorted according to arrival time."
   ]
  },
  {
   "cell_type": "code",
   "execution_count": 18,
   "metadata": {},
   "outputs": [],
   "source": [
    "# A3:Function(2/2)\n",
    "\n",
    "from dateutil import parser as dateparser\n",
    "\n",
    "def parse_times(trains):\n",
    "    datetime_parsed_trains = []\n",
    "    new_line=[]\n",
    "    for line in range(0, len(trains)):\n",
    "        new_line = [dateparser.parse(trains[line][0]), trains[line][1], trains[line][2]]\n",
    "        datetime_parsed_trains.append(new_line)\n",
    "        \n",
    "    return sorted(datetime_parsed_trains, key = lambda x: x[0])"
   ]
  },
  {
   "cell_type": "markdown",
   "metadata": {},
   "source": [
    "For reference, your output could be:\n",
    "```\n",
    "[[datetime.datetime(2021, 9, 25, 4, 35), 'West Trenton', 'ON TIME'],\n",
    " [datetime.datetime(2021, 9, 25, 4, 35), 'West Trenton', 'ON TIME'],\n",
    " [datetime.datetime(2021, 9, 25, 4, 45), 'Lansdale', 'ON TIME'],\n",
    " [datetime.datetime(2021, 9, 25, 4, 45), 'Thorndale', ' 2 LATE'],\n",
    " [datetime.datetime(2021, 9, 25, 4, 45), 'Lansdale', 'ON TIME'],\n",
    " [datetime.datetime(2021, 9, 25, 4, 45), 'Thorndale', ' 2 LATE'],\n",
    " [datetime.datetime(2021, 9, 25, 4, 50), 'Elwyn', 'ON TIME'],\n",
    " [datetime.datetime(2021, 9, 25, 4, 50), 'Elwyn', 'ON TIME'],\n",
    " [datetime.datetime(2021, 9, 25, 4, 55), 'Airport', ' 2 LATE'],\n",
    " [datetime.datetime(2021, 9, 25, 4, 55), 'Airport', ' 2 LATE']]\n",
    "```"
   ]
  },
  {
   "cell_type": "code",
   "execution_count": 19,
   "metadata": {},
   "outputs": [
    {
     "data": {
      "text/plain": [
       "[[datetime.datetime(2023, 10, 28, 4, 55), 'Airport', 'ON TIME'],\n",
       " [datetime.datetime(2023, 10, 28, 5, 55), 'Airport', 'ON TIME'],\n",
       " [datetime.datetime(2023, 10, 28, 6, 55), 'Airport', 'ON TIME'],\n",
       " [datetime.datetime(2023, 10, 28, 7, 55), 'Airport', 'ON TIME']]"
      ]
     },
     "execution_count": 19,
     "metadata": {},
     "output_type": "execute_result"
    }
   ],
   "source": [
    "# A3:SanityCheck\n",
    "\n",
    "datetime_parsed_trains = parse_times(trains)\n",
    "datetime_parsed_trains[:10]"
   ]
  },
  {
   "cell_type": "markdown",
   "metadata": {},
   "source": [
    "__A4.__ _(7 points)_ If you haven't noticed by now, there's a problem&mdash;the arrival times are lacking AM/PM information, even though the data are listed in 12-hour time. This leads `dateutils.parser` to treat the 12-hour format timestrings as 24-hour format timestrings. \n",
    "\n",
    "To solve this problem, utilize tools from the `datetime` module to 'fix' the original timestamps, and complete the `fix_times` function to process the original list created in __A1__ and using the `datetime` module to infer AM/PM information, and hence, the precise dates/times. The function then should output these new arrival times, the destination, and lateness information as usual in a sorted list.\n",
    "\n",
    "\\[__HINT:__ Use the current system time and the fact that the schedule information only contains trains arriving in the next few hours to fix the AM/PM problem.\\]"
   ]
  },
  {
   "cell_type": "code",
   "execution_count": 20,
   "metadata": {},
   "outputs": [],
   "source": [
    "from datetime import datetime\n",
    "def fix_times(trains, access_time):\n",
    "    trains_24_hour = []\n",
    "    access_hour = access_time.hour if access_time.hour else 12  # 'fix' zero times\n",
    "    access_date = access_time.strftime(\"%m/%d/%Y\")\n",
    "\n",
    "    for train in trains:\n",
    "        train_time_str = train[0]  # Extract the time string\n",
    "\n",
    "        # Parse the train time as a datetime object\n",
    "        train_time_datetime = datetime.strptime(train_time_str, \"%H:%M\")\n",
    "\n",
    "        # Format the time as 24-hour\n",
    "        train_time_formatted = train_time_datetime.strftime(\"%H:%M\")\n",
    "\n",
    "        # Update the train info with the formatted time\n",
    "        train[0] = train_time_formatted\n",
    "\n",
    "        # Append the train info to the list\n",
    "        trains_24_hour.append(train)\n",
    "\n",
    "    return trains_24_hour"
   ]
  },
  {
   "cell_type": "markdown",
   "metadata": {},
   "source": [
    "For reference, your output could be:\n",
    "```\n",
    "[[datetime.datetime(2021, 9, 25, 16, 35), 'West Trenton', 'ON TIME'],\n",
    " [datetime.datetime(2021, 9, 25, 16, 35), 'West Trenton', 'ON TIME'],\n",
    " [datetime.datetime(2021, 9, 25, 16, 45), 'Lansdale', 'ON TIME'],\n",
    " [datetime.datetime(2021, 9, 25, 16, 45), 'Thorndale', ' 2 LATE'],\n",
    " [datetime.datetime(2021, 9, 25, 16, 45), 'Lansdale', 'ON TIME'],\n",
    " [datetime.datetime(2021, 9, 25, 16, 45), 'Thorndale', ' 2 LATE'],\n",
    " [datetime.datetime(2021, 9, 25, 16, 50), 'Elwyn', 'ON TIME'],\n",
    " [datetime.datetime(2021, 9, 25, 16, 50), 'Elwyn', 'ON TIME'],\n",
    " [datetime.datetime(2021, 9, 25, 16, 55), 'Airport', ' 2 LATE'],\n",
    " [datetime.datetime(2021, 9, 25, 16, 55), 'Airport', ' 2 LATE']]\n",
    "```"
   ]
  },
  {
   "cell_type": "code",
   "execution_count": 21,
   "metadata": {},
   "outputs": [
    {
     "data": {
      "text/plain": [
       "[[datetime.datetime(2023, 10, 28, 4, 55), 'Airport', 'ON TIME'],\n",
       " [datetime.datetime(2023, 10, 28, 5, 55), 'Airport', 'ON TIME'],\n",
       " [datetime.datetime(2023, 10, 28, 6, 55), 'Airport', 'ON TIME'],\n",
       " [datetime.datetime(2023, 10, 28, 7, 55), 'Airport', 'ON TIME']]"
      ]
     },
     "execution_count": 21,
     "metadata": {},
     "output_type": "execute_result"
    }
   ],
   "source": [
    "# A4:SanityCheck\n",
    "\n",
    "datetime_parsed_trains_24_hour = parse_times(fix_times(trains, access_time))\n",
    "datetime_parsed_trains_24_hour[:10]"
   ]
  },
  {
   "cell_type": "markdown",
   "metadata": {},
   "source": [
    "__A5.__ _(5 points)_ Finally, complete the function to create hourly log files with train information in `\"data/trains/%Y-%m%-d%-H%.txt\"` named with the appropriate timestamp containing date and hour, so that when sorted by name, they are also sorted chronologically. The files should contain the 24-hour format arrival time, destination, and lateness for trains scheduled to arrive in that hour, with one train per line.\n",
    "\n",
    "For example, some of the lines from a log file for 7 PM could look like this:\n",
    "\n",
    "```\n",
    "19:02, Trenton, ON TIME\n",
    "19:09, Norristown, ON TIME\n",
    "19:35, Warminster, ON TIME\n",
    "19:35, Wilmington, ON TIME\n",
    "```"
   ]
  },
  {
   "cell_type": "code",
   "execution_count": 22,
   "metadata": {},
   "outputs": [],
   "source": [
    "# A5:Function(5/5)\n",
    "\n",
    "import os\n",
    "\n",
    "def save_schedule(datetime_parsed_trains_24_hour):\n",
    "    \n",
    "    ## Note: this uses the os module to execute a command line\n",
    "    ## but the (bash) command could be run just once from the command line\n",
    "    os.system(\"mkdir -p data/trains/\") \n",
    "    \n",
    "    for train in datetime_parsed_trains_24_hour:\n",
    "        # Extract the hour from the train's arrival time\n",
    "        arrival_hour = train[0].hour\n",
    "\n",
    "        # Create the log file path based on the hour\n",
    "        log_file_path = f\"data/trains/{train[0].strftime('%Y-%m-%d-%H')}.txt\"\n",
    "\n",
    "        # Open the log file in append mode and write the train information\n",
    "        with open(log_file_path, \"a\") as log_file:\n",
    "            log_file.write(f\"{train[0].strftime('%H:%M')}, {train[1]}, {train[2]}\\n\")\n"
   ]
  },
  {
   "cell_type": "markdown",
   "metadata": {},
   "source": [
    "For reference, your output could be:\n",
    "```\n",
    "['2021-09-25-23.txt',\n",
    " '2021-09-25-22.txt',\n",
    " '2021-09-25-20.txt',\n",
    " '2021-09-25-21.txt',\n",
    " '2021-09-25-19.txt',\n",
    " '2021-09-25-18.txt',\n",
    " '2021-09-25-16.txt',\n",
    " '2021-09-25-17.txt']\n",
    "```"
   ]
  },
  {
   "cell_type": "code",
   "execution_count": 24,
   "metadata": {},
   "outputs": [
    {
     "data": {
      "text/plain": [
       "['2023-10-28-04.txt',\n",
       " '2023-10-28-05.txt',\n",
       " '2023-10-28-06.txt',\n",
       " '2023-10-28-07.txt']"
      ]
     },
     "execution_count": 24,
     "metadata": {},
     "output_type": "execute_result"
    }
   ],
   "source": [
    "# A5:SanityCheck\n",
    "\n",
    "save_schedule(datetime_parsed_trains_24_hour)\n",
    "[x for x in os.listdir(\"data/trains/\") \n",
    " if re.search(datetime_parsed_trains_24_hour[0][0].strftime(\"%Y-%m-%d-\\d\\d.txt\"), x)]"
   ]
  },
  {
   "cell_type": "code",
   "execution_count": null,
   "metadata": {},
   "outputs": [],
   "source": []
  }
 ],
 "metadata": {
  "kernelspec": {
   "display_name": "Python 3 (ipykernel)",
   "language": "python",
   "name": "python3"
  },
  "language_info": {
   "codemirror_mode": {
    "name": "ipython",
    "version": 3
   },
   "file_extension": ".py",
   "mimetype": "text/x-python",
   "name": "python",
   "nbconvert_exporter": "python",
   "pygments_lexer": "ipython3",
   "version": "3.10.12"
  }
 },
 "nbformat": 4,
 "nbformat_minor": 4
}
